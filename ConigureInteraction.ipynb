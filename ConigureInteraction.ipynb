{
 "cells": [
  {
   "cell_type": "markdown",
   "id": "d05aef89",
   "metadata": {},
   "source": [
    "# 组态相互作用的基本概念"
   ]
  },
  {
   "cell_type": "markdown",
   "id": "a5452696",
   "metadata": {},
   "source": []
  }
 ],
 "metadata": {
  "language_info": {
   "name": "python"
  }
 },
 "nbformat": 4,
 "nbformat_minor": 5
}
