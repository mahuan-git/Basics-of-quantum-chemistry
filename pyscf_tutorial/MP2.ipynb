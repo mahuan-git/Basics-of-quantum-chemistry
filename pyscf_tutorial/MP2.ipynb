{
 "cells": [
  {
   "cell_type": "markdown",
   "id": "0118b385",
   "metadata": {},
   "source": [
    "# Møller-Plesset 微扰， MP2"
   ]
  },
  {
   "cell_type": "markdown",
   "id": "cc740a20",
   "metadata": {},
   "source": [
    "## 极简MP2关联能计算\n",
    "MP2计算的起点是HF，我们先做一个HF"
   ]
  },
  {
   "cell_type": "code",
   "execution_count": 5,
   "id": "f0a1204a",
   "metadata": {},
   "outputs": [
    {
     "name": "stdout",
     "output_type": "stream",
     "text": [
      "converged SCF energy = -40.1987064719646\n"
     ]
    },
    {
     "data": {
      "text/plain": [
       "<pyscf.scf.hf.RHF at 0x7f2aade51450>"
      ]
     },
     "execution_count": 5,
     "metadata": {},
     "output_type": "execute_result"
    }
   ],
   "source": [
    "from pyscf import gto, scf\n",
    "import numpy as np\n",
    "\n",
    "def geometry_h2o(bl = 1.0 , theta = np.pi *104/180):\n",
    "    \"\"\"get geometry for h2o\"\"\"\n",
    "    geometry = []\n",
    "    geometry.append((\"O\",(0,0,0)))\n",
    "    geometry.append((\"H\",(0,bl*np.sin(theta/2),bl*np.cos(theta/2))))\n",
    "    geometry.append((\"H\",(0,-bl*np.sin(theta/2),bl*np.cos(theta/2))))\n",
    "    return geometry\n",
    "\n",
    "def geometry_ch4():\n",
    "    \"\"\"get geometry for ch4\"\"\"\n",
    "    geometry = []\n",
    "    geometry.append((\"C\",(0,0,0.0)))\n",
    "    geometry.append((\"H\",(    0.554102923 , 0.799604215 ,    0.496502616)))\n",
    "    geometry.append((\"H\",( 0.683303601 , -0.813404287 ,   -0.253601339)))\n",
    "    geometry.append((\"H\",(  -0.778204102, -0.37350197  ,   0.669203526)))\n",
    "    geometry.append((\"H\",(  -0.459302421, 0.387402041   ,  -0.912104808)))\n",
    "    return geometry\n",
    "\n",
    "mol = gto.Mole()\n",
    "mol.atom = geometry_ch4()\n",
    "mol.basis = \"cc-pvdz\"\n",
    "mol.build()\n",
    "\n",
    "mf = scf.RHF(mol)\n",
    "mf.run()"
   ]
  },
  {
   "cell_type": "markdown",
   "id": "5ec7e342",
   "metadata": {},
   "source": [
    "一些必要的变量定义"
   ]
  },
  {
   "cell_type": "code",
   "execution_count": 6,
   "id": "b05e3a1d",
   "metadata": {},
   "outputs": [],
   "source": [
    "from functools import reduce\n",
    "from pyscf import ao2mo\n",
    "\n",
    "norb = mol.nao_nr()   # 轨道数\n",
    "nelec = mol.nelectron   # 电子数\n",
    "assert (nelec % 2 == 0) # 仅考虑close shell\n",
    "nocc = nelec //2       # 占据轨道数\n",
    "nvir = norb - nocc       # 空轨道数\n",
    "e_hf = mf.e_tot          # Hartree Fock 能\n",
    "\n",
    "mo_coeff = mf.mo_coeff   # 分子轨道系数（用于原子轨道-分子轨道的变换）\n",
    "mo_energy = mf.mo_energy  # 轨道能\n",
    "\n",
    "h1e_mo = reduce(np.dot, (mo_coeff.T, mf.get_hcore(), mo_coeff))   # 分子轨道下的单电子积分\n",
    "# eri = ao2mo.full(mf.mol, mo_coeff)\n",
    "eri_mo = ao2mo.kernel(mf.mol, mo_coeff,aosym=1)\n",
    "eri_mo = eri_mo.reshape((norb,norb,norb,norb))   # 分子轨道下的双电子积分"
   ]
  },
  {
   "cell_type": "markdown",
   "id": "335069df",
   "metadata": {},
   "source": [
    "MP2相关能计算：(Modern Quantum Chemistry Eq. 6.74)\n",
    "$$\n",
    "E_{\\mathrm{MP}2}=2 \\sum_{i j a b}^{N / 2} \\frac{\\langle i j \\mid a b\\rangle\\langle a b \\mid i j\\rangle}{\\varepsilon_i+\\varepsilon_j-\\varepsilon_a-\\varepsilon_b}-\\sum_{i j a b}^{N / 2} \\frac{\\langle i j \\mid a b\\rangle\\langle a b \\mid j i\\rangle}{\\varepsilon_i+\\varepsilon_j-\\varepsilon_a-\\varepsilon_b}\n",
    "$$\n",
    "\n",
    "$$\n",
    "E_{\\mathrm{MP} 2}= \\sum_{i,j \\in occ} \\sum_{a,b \\in vir} \\frac{\\langle i j \\mid a b \\rangle (2 \\langle i j \\mid a b \\rangle- \\langle i j \\mid b a \\rangle )}{\\varepsilon_i + \\varepsilon_j - \\varepsilon_a-\\varepsilon_b}\n",
    "$$"
   ]
  },
  {
   "cell_type": "code",
   "execution_count": 7,
   "id": "effbd6f7",
   "metadata": {},
   "outputs": [
    {
     "data": {
      "text/plain": [
       "-0.16421767323888858"
      ]
     },
     "execution_count": 7,
     "metadata": {},
     "output_type": "execute_result"
    }
   ],
   "source": [
    "emp2 = 0.0\n",
    "for i in np.arange(nocc):\n",
    "    for j in np.arange(nocc):\n",
    "        for k in np.arange(nocc,norb):\n",
    "            for l in np.arange(nocc,norb):\n",
    "                emp2 += eri_mo[i,k,j,l]*(2*eri_mo[i,k,j,l] - eri_mo[i,l,j,k])/(mo_energy[i] + mo_energy[j] - mo_energy[k] - mo_energy[l])\n",
    "emp2"
   ]
  },
  {
   "cell_type": "markdown",
   "id": "53cbbb81",
   "metadata": {},
   "source": [
    "与PySCF计算的MP2结果对比"
   ]
  },
  {
   "cell_type": "code",
   "execution_count": 8,
   "id": "df7784f3",
   "metadata": {},
   "outputs": [
    {
     "name": "stdout",
     "output_type": "stream",
     "text": [
      "E(MP2) = -40.3629241452035  E_corr = -0.164217673238889\n",
      "E(SCS-MP2) = -40.3687537290159  E_corr = -0.170047257051282\n"
     ]
    },
    {
     "data": {
      "text/plain": [
       "-0.16421767323888886"
      ]
     },
     "execution_count": 8,
     "metadata": {},
     "output_type": "execute_result"
    }
   ],
   "source": [
    "from pyscf import mp\n",
    "mymp = mp.mp2.MP2(mf)\n",
    "emp2_pyscf ,_ = mymp.kernel()\n",
    "emp2_pyscf"
   ]
  },
  {
   "cell_type": "code",
   "execution_count": 11,
   "id": "aba19d21",
   "metadata": {},
   "outputs": [
    {
     "data": {
      "text/plain": [
       "2.7755575615628914e-16"
      ]
     },
     "execution_count": 11,
     "metadata": {},
     "output_type": "execute_result"
    }
   ],
   "source": [
    "emp2 - emp2_pyscf"
   ]
  },
  {
   "cell_type": "markdown",
   "id": "ff51534d",
   "metadata": {},
   "source": [
    "MP2的总能量为"
   ]
  },
  {
   "cell_type": "code",
   "execution_count": 9,
   "id": "f80449ea",
   "metadata": {},
   "outputs": [
    {
     "data": {
      "text/plain": [
       "-40.36292414520347"
      ]
     },
     "execution_count": 9,
     "metadata": {},
     "output_type": "execute_result"
    }
   ],
   "source": [
    "mp2_total_energy = e_hf + emp2\n",
    "mp2_total_energy"
   ]
  },
  {
   "cell_type": "code",
   "execution_count": 10,
   "id": "8b00c463",
   "metadata": {},
   "outputs": [
    {
     "data": {
      "text/plain": [
       "0.0"
      ]
     },
     "execution_count": 10,
     "metadata": {},
     "output_type": "execute_result"
    }
   ],
   "source": [
    "mp2_total_energy - mymp.e_tot"
   ]
  }
 ],
 "metadata": {
  "kernelspec": {
   "display_name": "hfds",
   "language": "python",
   "name": "python3"
  },
  "language_info": {
   "codemirror_mode": {
    "name": "ipython",
    "version": 3
   },
   "file_extension": ".py",
   "mimetype": "text/x-python",
   "name": "python",
   "nbconvert_exporter": "python",
   "pygments_lexer": "ipython3",
   "version": "3.11.11"
  }
 },
 "nbformat": 4,
 "nbformat_minor": 5
}
