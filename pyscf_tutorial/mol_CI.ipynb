{
 "cells": [
  {
   "cell_type": "markdown",
   "id": "117e3e0b",
   "metadata": {},
   "source": [
    "## 分子体系二次量子化哈密顿量的FCI方法求解\n",
    "上面我们介绍了FCI方法的框架，但是上面写的并不适用于任意的二次量子化哈密顿量，因为上面的哈密顿量矩阵元计算是利用了Hubbard Model的一些性质的简化计算。由于Hubbard Model的双电子项只有对角项，其他都为零，其计算哈密顿量矩阵元较为简单。如果是任意一个二次量子化哈密顿量：\n",
    "$$\n",
    "\\hat{H}=\\sum_{p q} h_{p q} a_p^{\\dagger} a_q+\\sum_{p q r s} v_{p q}^{r s} a_p^{\\dagger} a_q^{\\dagger} a_r a_s\n",
    "$$\n",
    "大致的FCI计算思路还是一样的，先构建Hamiltonian矩阵然后对角化。不过哈密顿量矩阵元的计算有点不同。"
   ]
  },
  {
   "cell_type": "markdown",
   "id": "3c3152ef",
   "metadata": {},
   "source": [
    "我们还是先把一些重要的东西，比如单双电子积分算出来"
   ]
  },
  {
   "cell_type": "code",
   "execution_count": 1,
   "id": "c924d4f5",
   "metadata": {},
   "outputs": [
    {
     "name": "stdout",
     "output_type": "stream",
     "text": [
      "converged SCF energy = -4.17436981038916\n"
     ]
    }
   ],
   "source": [
    "from pyscf import gto, scf, ao2mo\n",
    "import numpy as np\n",
    "from functools import reduce\n",
    "\n",
    "def geometry_Hn(n=2,dist = 1.0):\n",
    "    geometry = []\n",
    "    for i in range(n):\n",
    "        geometry.append((\"H\",(0,0,i*dist)))\n",
    "    return geometry\n",
    "\n",
    "mol = gto.Mole()\n",
    "mol.atom = geometry_Hn(n=8)\n",
    "mol.basis = \"sto-3g\"\n",
    "mol.build()\n",
    "\n",
    "mf = scf.RHF(mol)\n",
    "mf.run()\n",
    "\n",
    "norb = mol.nao_nr()\n",
    "n_spin_orb = 2 * norb\n",
    "Sz = mol.spin\n",
    "nelec = mol.nelectron\n",
    "nelec_a = (nelec + Sz) //2\n",
    "nelec_b = (nelec - Sz) //2\n",
    "ecore = mol.energy_nuc()\n",
    "mo_coeff = mf.mo_coeff\n",
    "\n",
    "h1e_ao = mol.intor(\"int1e_nuc\") + mol.intor(\"int1e_kin\")\n",
    "h1e = reduce(np.dot, (mo_coeff.T, h1e_ao, mo_coeff))\n",
    "\n",
    "eri_ao = mol.intor(\"int2e\")\n",
    "eri = np.einsum(\n",
    "    \"ijkl, ip, js, kq, lr->psqr\",\n",
    "    eri_ao, mo_coeff.conj(), mo_coeff,\n",
    "    mo_coeff.conj(), mo_coeff)"
   ]
  },
  {
   "cell_type": "markdown",
   "id": "bf7aaa2b",
   "metadata": {},
   "source": [
    "上面得到的`h1e`和`eri`就是分子轨道(MO)基组下的单双电子积分\n",
    "$$\n",
    "\\hat{H}=\\sum_{p q} h_{p q} a_p^{\\dagger} a_q+\\sum_{p q r s} v_{p q}^{r s} a_p^{\\dagger} a_q^{\\dagger} a_r a_s\n",
    "$$\n",
    "`h1e`和`eri`分别对应了二次量子化哈密顿量中的$h_{p q}$和$v_{p q}^{r s}$"
   ]
  },
  {
   "cell_type": "markdown",
   "id": "eb0f2586",
   "metadata": {},
   "source": [
    "然后我们还是一样要确定希尔伯特空间中具体有哪些组态"
   ]
  },
  {
   "cell_type": "code",
   "execution_count": 2,
   "id": "831293b2",
   "metadata": {},
   "outputs": [],
   "source": [
    "from itertools import combinations\n",
    "import math\n",
    "\n",
    "def get_num_configuration(norb, nelec, Sz=0):\n",
    "    nelec_a = (nelec + Sz) //2\n",
    "    nelec_b = (nelec - Sz) //2\n",
    "    na = math.comb(norb,nelec_a)\n",
    "    nb = math.comb(norb,nelec_b)\n",
    "    return na*nb\n",
    "\n",
    "def get_all_configurations(norb,nelec,Sz=0):\n",
    "    nelec_a = (nelec + Sz) //2\n",
    "    nelec_b = (nelec - Sz) //2\n",
    "    configurations = []\n",
    "    for spin_up_occ in combinations(range(norb), nelec_a):\n",
    "        for spin_dn_occ in combinations(range(norb), nelec_b):\n",
    "            configuration = np.zeros(2*norb) # 定义一个空组态，其长度为2*norb，等于自旋轨道数。自旋轨道的排列顺序为： 1↑ 1↓ 2↑ 2↓ 3↑ 3↓ ...\n",
    "            spin_up_occ = np.array(spin_up_occ)\n",
    "            spin_dn_occ = np.array(spin_dn_occ)\n",
    "            configuration[2*spin_up_occ] = 1        # 根据spin_up_occ把占据的spin up obritals设置为1\n",
    "            configuration[2*spin_dn_occ + 1] = 1    # 根据spin_dn_occ把占据的spin down obritals设置为1\n",
    "            configurations.append(configuration)\n",
    "    configurations = np.array(configurations)\n",
    "    return configurations\n",
    "\n",
    "configurations = get_all_configurations(norb,nelec)"
   ]
  },
  {
   "cell_type": "markdown",
   "id": "d9be10fb",
   "metadata": {},
   "source": [
    "并且一样把组态(configuration)转化成十进制数(string)进行存储"
   ]
  },
  {
   "cell_type": "code",
   "execution_count": 3,
   "id": "8faff62b",
   "metadata": {},
   "outputs": [],
   "source": [
    "def config_to_string(configurations:np.array):\n",
    "    configurations = np.array(configurations,dtype = np.int64)\n",
    "    n_configurations = configurations.shape[0] # 组态数\n",
    "    n_spin_orbs = configurations.shape[1]   # 自旋轨道数\n",
    "    strings = np.zeros(n_configurations, dtype = np.int64) # 先定义一个空的new_configurations的数组，里面用十进制数存组态\n",
    "    for i in range(n_spin_orbs):\n",
    "        strings += configurations[:,i]* 2**i # 每一位数值代表了2**i\n",
    "    return strings\n",
    "\n",
    "ci_strings = config_to_string(configurations)\n",
    "n_strings = n_configurations = ci_strings.shape[0]"
   ]
  },
  {
   "cell_type": "markdown",
   "id": "e1b5f862",
   "metadata": {},
   "source": [
    "之后还要先做一点准备工作："
   ]
  },
  {
   "cell_type": "code",
   "execution_count": 4,
   "id": "f96aa61c",
   "metadata": {},
   "outputs": [],
   "source": [
    "def cre_des_sign(p, q, string0):\n",
    "    \"\"\"\n",
    "    这个函数的作用是，对于一个组态string0，它对于第p个轨道作用一个产生算符，第q个轨道作用一个湮灭算符，得到的新组态string1, \n",
    "    string0 和string1之间由交换反对称确定的符号是+1还是-1\n",
    "\n",
    "    Args:\n",
    "        p (int): 产生算符作用的位置\n",
    "        q (int): 湮灭算符作用的位置\n",
    "        string0 (int): 以十进制数保存的组套\n",
    "\n",
    "    Returns:\n",
    "        sign: +1 或者 -1\n",
    "    \"\"\"\n",
    "    if p == q: \n",
    "        # 如果 p==q，那就是在同一个轨道上湮灭-产生，得到的组态是string0自己，这里不涉及费米子交换，符号为1\n",
    "        return 1\n",
    "    else:\n",
    "        if (string0 & (1 << p)) or (not (string0 & (1 << q))):\n",
    "            # 如果在p上本来有电子，或者q上没有电子，那么就无法产生/湮灭，这两个组态给出的矩阵元为0：\n",
    "            return 0\n",
    "        \n",
    "        # 其他情况，则需要数一下产生算符p和湮灭算符q之间，交换了多少个电子，数一下p和q之间的1\n",
    "        elif p > q:\n",
    "            mask = (1 << p) - (1 << (q+1))\n",
    "        else:\n",
    "            mask = (1 << q) - (1 << (p+1))\n",
    "        # 交换次数为偶数返回0， 为奇数返回1：\n",
    "        return (-1) ** bin(string0 & mask).count('1')\n",
    "\n",
    "def gen_linkstr_index_spin_orbital(orb_list, strings):\n",
    "    \"\"\"\n",
    "    这个函数的作用是生成一个表，表格里记录了每个组态有哪些产生-湮灭的可能性。\n",
    "\n",
    "    Args:\n",
    "        orb_list (np.array): 所有自旋轨道的\n",
    "        strings (np.array): _description_\n",
    "\n",
    "    Returns:\n",
    "        link_table: \n",
    "        返回一个长度为strings.shape[0]的np.array。\n",
    "        link_table[n]中存储了第n个组态的所有产生湮灭可能。\n",
    "    \"\"\"\n",
    "    # strdic = dict(zip(strings,range(strings.__len__())))\n",
    "    def propagate1e(str0):\n",
    "        occ = []\n",
    "        vir = []\n",
    "        for i in orb_list:\n",
    "            if str0 & (1 << i):\n",
    "                occ.append(i)\n",
    "            else:\n",
    "                vir.append(i)\n",
    "        linktab = []\n",
    "        for i in occ:\n",
    "            # linktab.append((i, i, strdic[str0], 1))\n",
    "            linktab.append((i, i, str0, 1))\n",
    "        for i in occ:\n",
    "            for a in vir:\n",
    "                if i%2==a%2:\n",
    "                    str1 = str0 ^ (1 << i) | (1 << a)\n",
    "                    linktab.append((a, i, str1, cre_des_sign(a, i, str0)))\n",
    "                else:\n",
    "                    pass\n",
    "        return linktab\n",
    "\n",
    "    t = [propagate1e(s) for s in strings.astype(np.int64)]\n",
    "    return t"
   ]
  },
  {
   "cell_type": "code",
   "execution_count": 5,
   "id": "b3587db2",
   "metadata": {},
   "outputs": [
    {
     "data": {
      "text/plain": [
       "(8, 0, 510, -1)"
      ]
     },
     "execution_count": 5,
     "metadata": {},
     "output_type": "execute_result"
    }
   ],
   "source": [
    "link_table = gen_linkstr_index_spin_orbital(range(2*norb),ci_strings)\n",
    "link_table[0][8]"
   ]
  },
  {
   "cell_type": "markdown",
   "id": "1c31128a",
   "metadata": {},
   "source": [
    "这个link_table是一个表格，它里面记录了每个组态所有可能的产生-湮灭算符组合。比如link_table[n]就表示了第n个组态的所有产生湮灭组合\n",
    "\n",
    "每一项的四元素元组每个元素分别是(产生，湮灭，目标组态，符号)。\n",
    "\n",
    "我们随便选一行进行说明，（8，0，510，-1）意思是对于0号组态（255，1111111100000000），在第8个轨道产生一个电子，在第0个轨道湮灭一个电子，会得到一个新组态(510,0111111110000000)，这个跃迁因为涉及奇数次费米子交换，所有需要乘以-1"
   ]
  },
  {
   "cell_type": "markdown",
   "id": "f4df7706",
   "metadata": {},
   "source": [
    "之后同样是要计算哈密顿量矩阵元，这里和Hubbard Model的处理方式有点不一样。Hubbard Model的双电子项只需要考虑对角元，但是现在我们需要处理非对角元了。因为我们已经提前算了link_table，我们只需要对link_table遍历就可以了。"
   ]
  },
  {
   "cell_type": "code",
   "execution_count": 6,
   "id": "0a48aea0",
   "metadata": {},
   "outputs": [],
   "source": [
    "ham_mat = np.zeros((n_strings,n_strings))  # 初始化哈密顿量矩阵\n",
    "str_dict = {s: idx for idx, s in enumerate(ci_strings)}\n",
    "\n",
    "f1e = h1e - np.einsum('jiik->jk', eri) * .5  # 提前减掉这部分来避免double coutiing\n",
    "\n",
    "# 处理单电子项\n",
    "for idx0, tab in enumerate(link_table):  # 遍历 link_table\n",
    "    for p, q, str1, sign in tab:         # 遍历所有产生湮灭算符组合\n",
    "        idx1 = str_dict.get(str1)\n",
    "        ham_mat[idx0,idx1] += sign* f1e[p//2,q//2]\n",
    "\n",
    "# 处理双电子项\n",
    "for idx0, tab in enumerate(link_table):\n",
    "    for p, q, str1, sign1 in tab:\n",
    "        idx1 = str_dict.get(str1)\n",
    "        for r, s, str2, sign2 in link_table[idx1]:\n",
    "            idx2 = str_dict.get(str2)\n",
    "            ham_mat[idx0,idx2] += 0.5*sign1*sign2*eri[p//2,q//2,r//2,s//2]"
   ]
  },
  {
   "cell_type": "markdown",
   "id": "8ba1f43e",
   "metadata": {},
   "source": [
    "遍历完link_table以后ham_mat就构建好了。之后把这个矩阵对角化。"
   ]
  },
  {
   "cell_type": "code",
   "execution_count": 7,
   "id": "1f2e8fd5",
   "metadata": {},
   "outputs": [
    {
     "data": {
      "text/plain": [
       "-4.307571602006763"
      ]
     },
     "execution_count": 7,
     "metadata": {},
     "output_type": "execute_result"
    }
   ],
   "source": [
    "import scipy.linalg\n",
    "e,v =scipy.linalg.eigh(ham_mat)\n",
    "fci_e = e[0] + mf.energy_nuc() # 别忘了加上核排斥能\n",
    "fci_e"
   ]
  },
  {
   "cell_type": "markdown",
   "id": "78e3d700",
   "metadata": {},
   "source": [
    "验证一下和pyscf.fci计算结果是否相同"
   ]
  },
  {
   "cell_type": "code",
   "execution_count": 8,
   "id": "31738f71",
   "metadata": {},
   "outputs": [
    {
     "data": {
      "text/plain": [
       "-7.7964301681277e-12"
      ]
     },
     "execution_count": 8,
     "metadata": {},
     "output_type": "execute_result"
    }
   ],
   "source": [
    "from pyscf.fci import direct_spin1\n",
    "myfci = direct_spin1.FCI()\n",
    "pyscf_fci_e,fci_v = myfci.kernel(h1e,eri,norb,nelec,ecore = mf.energy_nuc())\n",
    "fci_e - pyscf_fci_e"
   ]
  },
  {
   "cell_type": "markdown",
   "id": "501b623d",
   "metadata": {},
   "source": [
    "可见是一致的。"
   ]
  },
  {
   "cell_type": "markdown",
   "id": "414d70a3",
   "metadata": {},
   "source": [
    "FCI方法的问题是，随着norb和nelec增加，全空间里的组态数目是以阶乘增加的"
   ]
  },
  {
   "cell_type": "code",
   "execution_count": 9,
   "id": "71d73886",
   "metadata": {},
   "outputs": [
    {
     "data": {
      "text/plain": [
       "34134779536"
      ]
     },
     "execution_count": 9,
     "metadata": {},
     "output_type": "execute_result"
    }
   ],
   "source": [
    "get_num_configuration(20,20)"
   ]
  },
  {
   "cell_type": "markdown",
   "id": "296a2ef0",
   "metadata": {},
   "source": [
    "20轨道20电子的体系就有1e11级别的组态数了，要构建 1e11 * 1e11的FCI矩阵并且对角化是不现实的。一个可行的方法是限制组态空间的规模，比如CISD方法就是只考虑相对HF态单双激发的组态，从而限制组态空间的大小并进行计算。"
   ]
  },
  {
   "cell_type": "markdown",
   "id": "25f69379",
   "metadata": {},
   "source": [
    "我们先确定在CISD计算中需要考虑的组态有哪些"
   ]
  },
  {
   "cell_type": "code",
   "execution_count": 10,
   "id": "45d0fb2a",
   "metadata": {},
   "outputs": [],
   "source": [
    "import itertools\n",
    "\n",
    "def generate_cisd(hf_config):\n",
    "    occupied = [i for i, occ in enumerate(hf_config) if occ == 1]\n",
    "    virtual = [i for i, occ in enumerate(hf_config) if occ == 0]\n",
    "    cisd_configs = [hf_config.copy()]  # 包含原始HF组态\n",
    "    # 生成单激发组态（Singly excited）\n",
    "    for i in occupied:\n",
    "        for a in virtual:\n",
    "            if i%2 != a%2:  # 自旋检查\n",
    "                continue\n",
    "            new_config = hf_config.copy()\n",
    "            new_config[i] = 0\n",
    "            new_config[a] = 1\n",
    "            cisd_configs.append(new_config)\n",
    "    \n",
    "    # 生成双激发组态（Doubly excited）\n",
    "    for (i, j) in itertools.combinations(occupied, 2):\n",
    "        for (a, b) in itertools.combinations(virtual, 2):\n",
    "            if ((i%2==a%2) and (j%2==b%2)) or ((i%2==b%2) and (j%2==a%2)): #自旋检查\n",
    "                new_config = hf_config.copy()\n",
    "                new_config[i] = 0\n",
    "                new_config[j] = 0\n",
    "                new_config[a] = 1\n",
    "                new_config[b] = 1\n",
    "                cisd_configs.append(new_config)\n",
    "    cisd_configs = np.array(cisd_configs)\n",
    "    return cisd_configs\n",
    "hf_state = np.zeros(2*norb)\n",
    "hf_state[:nelec]=1\n",
    "cisd_configs = generate_cisd(hf_state)\n",
    "cisd_strings = config_to_string(cisd_configs)\n",
    "n_cisd_strings = cisd_strings.shape[0]"
   ]
  },
  {
   "cell_type": "markdown",
   "id": "28512fdd",
   "metadata": {},
   "source": [
    "构建CISD矩阵"
   ]
  },
  {
   "cell_type": "code",
   "execution_count": 11,
   "id": "e105959d",
   "metadata": {},
   "outputs": [],
   "source": [
    "ham_mat_cisd = np.zeros((n_cisd_strings,n_cisd_strings))  # 初始化哈密顿量矩阵\n",
    "str_dict = {s: idx for idx, s in enumerate(ci_strings)}\n",
    "str_dict_cisd = {s: idx for idx, s in enumerate(cisd_strings)}\n",
    "\n",
    "f1e = h1e - np.einsum('jiik->jk', eri) * .5  # 提前减掉这部分来避免double coutiing\n",
    "\n",
    "# 处理单电子项\n",
    "for idx0, str0 in enumerate(cisd_strings):\n",
    "    tab = link_table[str_dict.get(str0)]\n",
    "    for p, q, str1, sign in tab:         \n",
    "        if str1 in cisd_strings:\n",
    "            idx1 = str_dict_cisd.get(str1)\n",
    "            ham_mat_cisd[idx0,idx1] += sign* f1e[p//2,q//2]\n",
    "\n",
    "# 处理双电子项\n",
    "# for idx0, tab in enumerate(link_table):\n",
    "for idx0, str0 in enumerate(cisd_strings):\n",
    "    tab = link_table[str_dict.get(str0)]\n",
    "    for p, q, str1, sign1 in tab:\n",
    "        # if not (str1 in cisd_strings):\n",
    "        #     continue\n",
    "        idx1 = str_dict.get(str1)\n",
    "        for r, s, str2, sign2 in link_table[idx1]:\n",
    "            if str2 in cisd_strings:\n",
    "                idx2 = str_dict_cisd.get(str2)\n",
    "                ham_mat_cisd[idx0,idx2] += 0.5*sign1*sign2*eri[p//2,q//2,r//2,s//2]"
   ]
  },
  {
   "cell_type": "markdown",
   "id": "431770fe",
   "metadata": {},
   "source": [
    "然后对角化这个矩阵"
   ]
  },
  {
   "cell_type": "code",
   "execution_count": 12,
   "id": "30a98a3b",
   "metadata": {},
   "outputs": [
    {
     "data": {
      "text/plain": [
       "-4.297799976270009"
      ]
     },
     "execution_count": 12,
     "metadata": {},
     "output_type": "execute_result"
    }
   ],
   "source": [
    "import scipy.linalg\n",
    "e,v =scipy.linalg.eigh(ham_mat_cisd)\n",
    "cisd_e = e[0] + mf.energy_nuc() # 别忘了加上核排斥能\n",
    "cisd_e"
   ]
  },
  {
   "cell_type": "markdown",
   "id": "3c364405",
   "metadata": {},
   "source": [
    "使用PySCF的CISD也算出同样的结果"
   ]
  },
  {
   "cell_type": "code",
   "execution_count": 13,
   "id": "786e55fa",
   "metadata": {},
   "outputs": [
    {
     "name": "stdout",
     "output_type": "stream",
     "text": [
      "E(RCISD) = -4.297799976222395  E_corr = -0.1234301658332373\n"
     ]
    },
    {
     "data": {
      "text/plain": [
       "4.7614356901704014e-11"
      ]
     },
     "execution_count": 13,
     "metadata": {},
     "output_type": "execute_result"
    }
   ],
   "source": [
    "from pyscf import ci\n",
    "\n",
    "mycisd = ci.RCISD(mf)\n",
    "e,v = mycisd.kernel()\n",
    "mycisd.e_tot - cisd_e"
   ]
  },
  {
   "cell_type": "code",
   "execution_count": 14,
   "id": "ecd34d3a",
   "metadata": {},
   "outputs": [
    {
     "data": {
      "text/plain": [
       "4900"
      ]
     },
     "execution_count": 14,
     "metadata": {},
     "output_type": "execute_result"
    }
   ],
   "source": [
    "ci_strings.shape[0]"
   ]
  },
  {
   "cell_type": "code",
   "execution_count": 15,
   "id": "d755ce03",
   "metadata": {},
   "outputs": [
    {
     "data": {
      "text/plain": [
       "361"
      ]
     },
     "execution_count": 15,
     "metadata": {},
     "output_type": "execute_result"
    }
   ],
   "source": [
    "cisd_strings.shape[0]"
   ]
  },
  {
   "cell_type": "markdown",
   "id": "10c079ee",
   "metadata": {},
   "source": [
    "（上面我们写的FCI算法和CISD算法效率很低，不适合用于大体系计算，仅作算法正确性验证）"
   ]
  }
 ],
 "metadata": {
  "kernelspec": {
   "display_name": "hfds",
   "language": "python",
   "name": "python3"
  },
  "language_info": {
   "codemirror_mode": {
    "name": "ipython",
    "version": 3
   },
   "file_extension": ".py",
   "mimetype": "text/x-python",
   "name": "python",
   "nbconvert_exporter": "python",
   "pygments_lexer": "ipython3",
   "version": "3.11.11"
  }
 },
 "nbformat": 4,
 "nbformat_minor": 5
}
