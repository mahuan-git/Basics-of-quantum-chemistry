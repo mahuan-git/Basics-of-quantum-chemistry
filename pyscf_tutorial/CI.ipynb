{
 "cells": [
  {
   "cell_type": "markdown",
   "id": "d05aef89",
   "metadata": {},
   "source": [
    "# 组态相互作用"
   ]
  },
  {
   "cell_type": "code",
   "execution_count": 2,
   "id": "a5452696",
   "metadata": {},
   "outputs": [
    {
     "name": "stdout",
     "output_type": "stream",
     "text": [
      "converged SCF energy = -1.06610864931794\n"
     ]
    },
    {
     "data": {
      "text/plain": [
       "<pyscf.scf.hf.RHF at 0x7f562d101750>"
      ]
     },
     "execution_count": 2,
     "metadata": {},
     "output_type": "execute_result"
    }
   ],
   "source": [
    "from pyscf import gto, scf, fci, ao2mo\n",
    "import numpy as np\n",
    "from functools import reduce\n",
    "\n",
    "mol = gto.Mole()\n",
    "mol.atom = [(\"H\",(0,0,0)),(\"H\",(0,0,1))]\n",
    "mol.basis = \"sto3g\"\n",
    "mol.build()\n",
    "\n",
    "mf = scf.RHF(mol)\n",
    "mf.run()"
   ]
  },
  {
   "cell_type": "code",
   "execution_count": 30,
   "id": "f90ef1a1",
   "metadata": {},
   "outputs": [],
   "source": [
    "norb = mol.nao_nr()\n",
    "nelec = mol.nelectron\n",
    "ecore = mol.energy_nuc()\n",
    "mo_coeff = mf.mo_coeff\n",
    "h1e = reduce(np.dot, (mo_coeff.T, mf.get_hcore(), mo_coeff))\n",
    "# eri = ao2mo.full(mf.mol, mo_coeff)\n",
    "eri = ao2mo.kernel(mf.mol, mo_coeff,aosym=1)"
   ]
  },
  {
   "cell_type": "code",
   "execution_count": 31,
   "id": "ccb6936e",
   "metadata": {},
   "outputs": [
    {
     "data": {
      "text/plain": [
       "-1.1011503302326187"
      ]
     },
     "execution_count": 31,
     "metadata": {},
     "output_type": "execute_result"
    }
   ],
   "source": [
    "myci = fci.direct_spin1.FCI(mf)\n",
    "e, v = myci.kernel(h1e,eri,norb,nelec,ecore = ecore)\n",
    "e"
   ]
  },
  {
   "cell_type": "code",
   "execution_count": 33,
   "id": "7ff19bbc",
   "metadata": {},
   "outputs": [
    {
     "data": {
      "text/plain": [
       "(4, 4)"
      ]
     },
     "execution_count": 33,
     "metadata": {},
     "output_type": "execute_result"
    }
   ],
   "source": [
    "eri.shape"
   ]
  },
  {
   "cell_type": "code",
   "execution_count": 24,
   "id": "edbf12da",
   "metadata": {},
   "outputs": [
    {
     "data": {
      "text/plain": [
       "-1.101150330232619"
      ]
     },
     "execution_count": 24,
     "metadata": {},
     "output_type": "execute_result"
    }
   ],
   "source": [
    "from pyscf.fci import fci_slow\n",
    "fci_slow.kernel(h1e,eri,norb,nelec,ecore = ecore)"
   ]
  },
  {
   "cell_type": "code",
   "execution_count": 58,
   "id": "bcd2c9fa",
   "metadata": {},
   "outputs": [
    {
     "name": "stdout",
     "output_type": "stream",
     "text": [
      "converged SCF energy = -1.06610864931794\n",
      "Full CI ground state energy: -1.943943284920306\n"
     ]
    }
   ],
   "source": [
    "import numpy as np\n",
    "from pyscf import gto, scf, ao2mo\n",
    "import itertools\n",
    "import bisect\n",
    "\n",
    "# 1. 定义分子并进行HF计算\n",
    "mol = gto.M(atom='H 0 0 0; H 0 0 1.0', basis='sto-3g')\n",
    "mf = scf.RHF(mol).run()\n",
    "\n",
    "# 2. 获取分子轨道积分\n",
    "h1e = mf.mo_coeff.T.dot(mf.get_hcore()).dot(mf.mo_coeff)  # 单电子积分\n",
    "nmo = h1e.shape[0]\n",
    "# eri = ao2mo.kernel(mol, mf.mo_coeff)  # 双电子积分 (物理 notation)\n",
    "# eri = eri.reshape(nmo, nmo, nmo, nmo)\n",
    "eri = ao2mo.kernel(mf.mol, mo_coeff,aosym=1)\n",
    "eri = eri.reshape(nmo, nmo, nmo, nmo)\n",
    "# 3. 扩展到自旋轨道\n",
    "nspin = nmo * 2  # 自旋轨道数目\n",
    "\n",
    "# 单电子积分扩展到自旋轨道\n",
    "h1e_spin = np.zeros((nspin, nspin))\n",
    "for i in range(nspin):\n",
    "    for j in range(nspin):\n",
    "        if not i%2 == j%2:\n",
    "            continue\n",
    "        p = i // 2\n",
    "        q = j // 2\n",
    "        h1e_spin[i, j] = h1e[p, q]\n",
    "\n",
    "# 双电子积分扩展到自旋轨道\n",
    "h2e_spin = np.zeros((nspin, nspin, nspin, nspin))\n",
    "for i in range(nspin):\n",
    "    for j in range(nspin):\n",
    "        for k in range(nspin):\n",
    "            for l in range(nspin):\n",
    "                if (i % 2) == (k % 2) and (j % 2) == (l % 2):\n",
    "                    p, q, r, s = i//2, j//2, k//2, l//2\n",
    "                    h2e_spin[i, j, k, l] = eri[p, r, q, s]\n",
    "\n",
    "# 4. 生成所有可能的电子组态\n",
    "nelec = mol.nelectron  # H₂的电子数为2\n",
    "configs = list(itertools.combinations(range(nspin), nelec))\n",
    "n_configs = len(configs)\n",
    "\n",
    "# 5. 构建哈密顿矩阵\n",
    "H = np.zeros((n_configs, n_configs))\n",
    "\n",
    "for i in range(n_configs):\n",
    "    A = configs[i]\n",
    "    for j in range(i, n_configs):\n",
    "        B = configs[j]\n",
    "        diff = set(A).symmetric_difference(B)\n",
    "        if len(diff) == 0:\n",
    "            # 对角元\n",
    "            h = 0.0\n",
    "            # 单电子部分\n",
    "            for p in A:\n",
    "                h += h1e_spin[p, p]\n",
    "            # 双电子部分\n",
    "            for p, q in itertools.combinations(A, 2):\n",
    "                h += 0.5 * (h2e_spin[p, q, p, q] - h2e_spin[p, q, q, p])\n",
    "            H[i, j] = H[j, i] = h\n",
    "        elif len(diff) == 2:\n",
    "            # 单激发\n",
    "            removed = list(set(A) - set(B))\n",
    "            added = list(set(B) - set(A))\n",
    "            r, s = removed[0], added[0]\n",
    "            \n",
    "            # 计算相位\n",
    "            a_list = list(A)\n",
    "            a_list.remove(r)\n",
    "            insert_pos = bisect.bisect_left(a_list, s)\n",
    "            temp = a_list[:insert_pos] + [s] + a_list[insert_pos:]\n",
    "            assert temp == list(B), \"Phase error\"\n",
    "            original_pos = A.index(r)\n",
    "            new_pos = B.index(s)\n",
    "            # phase = (-1) ** (original_pos + new_pos)\n",
    "            phase = (-1) ** (new_pos - original_pos)\n",
    "            \n",
    "            # 单电子贡献\n",
    "            h_single = h1e_spin[r, s] * phase\n",
    "            # 双电子贡献\n",
    "            sum_double = 0.0\n",
    "            for t in A:\n",
    "                if t != r:\n",
    "                    sum_double += (h2e_spin[r, t, s, t] - h2e_spin[r, t, t, s]) * phase\n",
    "            H_ij = h_single + sum_double\n",
    "            H[i, j] = H[j, i] = H_ij\n",
    "        elif len(diff) == 4:\n",
    "            # 双激发\n",
    "            removed = sorted(set(A) - set(B))\n",
    "            added = sorted(set(B) - set(A))\n",
    "            r1, r2 = removed\n",
    "            s1, s2 = added\n",
    "            \n",
    "            # 计算相位\n",
    "            temp = list(A)\n",
    "            temp.remove(r1)\n",
    "            temp.remove(r2)\n",
    "            temp.extend([s1, s2])\n",
    "            temp.sort()\n",
    "            assert temp == list(B), \"Phase error\"\n",
    "            \n",
    "            # 获取原始位置和新位置\n",
    "            pos_r1 = A.index(r1)\n",
    "            pos_r2 = A.index(r2)\n",
    "            pos_s1 = B.index(s1)\n",
    "            pos_s2 = B.index(s2)\n",
    "            \n",
    "            # 简化的相位计算（可能需要更精确的方法）\n",
    "            # phase = (-1) ** (pos_r1 + pos_r2 + pos_s1 + pos_s2)\n",
    "            phase = (-1) ** ( pos_s1 + pos_s2 - pos_r1 - pos_r2)\n",
    "            \n",
    "            # 双电子贡献\n",
    "            H_ij = (h2e_spin[r1, r2, s1, s2] - h2e_spin[r1, r2, s2, s1]) * phase\n",
    "            H[i, j] = H[j, i] = H_ij\n",
    "\n",
    "# 6. 对角化哈密顿矩阵\n",
    "eigvals, eigvecs = np.linalg.eigh(H)\n",
    "print(\"Full CI ground state energy:\", eigvals[0])"
   ]
  },
  {
   "cell_type": "markdown",
   "id": "c8efeed0",
   "metadata": {},
   "source": [
    "## 极简FCI"
   ]
  },
  {
   "cell_type": "code",
   "execution_count": 40,
   "id": "6d7131f2",
   "metadata": {},
   "outputs": [
    {
     "name": "stdout",
     "output_type": "stream",
     "text": [
      "converged SCF energy = -1.06610864931794\n"
     ]
    }
   ],
   "source": [
    "import numpy as np\n",
    "from pyscf import gto, scf, ao2mo\n",
    "import itertools\n",
    "import bisect\n",
    "\n",
    "# 1. 定义分子并进行HF计算\n",
    "mol = gto.M(atom='H 0 0 0; H 0 0 1.0', basis='sto-3g')\n",
    "mf = scf.RHF(mol).run()\n",
    "\n",
    "# 2. 获取分子轨道积分\n",
    "h1e = mf.mo_coeff.T.dot(mf.get_hcore()).dot(mf.mo_coeff)  # 单电子积分\n",
    "nmo = h1e.shape[0]\n",
    "# eri = ao2mo.kernel(mol, mf.mo_coeff)  # 双电子积分 (物理 notation)\n",
    "# eri = eri.reshape(nmo, nmo, nmo, nmo)\n",
    "eri = ao2mo.kernel(mf.mol, mo_coeff,aosym=1)\n",
    "eri = eri.reshape(nmo, nmo, nmo, nmo)\n",
    "# 3. 扩展到自旋轨道\n",
    "nspin = nmo * 2  # 自旋轨道数目\n",
    "\n",
    "# 单电子积分扩展到自旋轨道\n",
    "h1e_spin = np.zeros((nspin, nspin))\n",
    "for i in range(nspin):\n",
    "    for j in range(nspin):\n",
    "        if i % 2 == j % 2:\n",
    "            p = i // 2\n",
    "            q = j // 2\n",
    "            h1e_spin[i, j] = h1e[p, q]\n",
    "\n",
    "# 双电子积分扩展到自旋轨道\n",
    "h2e_spin = np.zeros((nspin, nspin, nspin, nspin))\n",
    "for i in range(nspin):\n",
    "    for j in range(nspin):\n",
    "        for k in range(nspin):\n",
    "            for l in range(nspin):\n",
    "                if (i % 2) == (k % 2) and (j % 2) == (l % 2):\n",
    "                    p, q, r, s = i//2, j//2, k//2, l//2\n",
    "                    h2e_spin[i, j, k, l] = eri[p, r, q, s]\n",
    "\n",
    "# 4. 生成所有可能的电子组态\n",
    "nelec = mol.nelectron  # H₂的电子数为2\n",
    "configs = list(itertools.combinations(range(nspin), nelec))\n",
    "n_configs = len(configs)"
   ]
  },
  {
   "cell_type": "code",
   "execution_count": 48,
   "id": "e4d6d116",
   "metadata": {},
   "outputs": [],
   "source": [
    "from pyscf.fci import cistring"
   ]
  },
  {
   "cell_type": "code",
   "execution_count": 49,
   "id": "cd72a433",
   "metadata": {},
   "outputs": [
    {
     "data": {
      "text/plain": [
       "array([1, 2])"
      ]
     },
     "execution_count": 49,
     "metadata": {},
     "output_type": "execute_result"
    }
   ],
   "source": [
    "cistring.make_strings(range(norb),nelec//2)"
   ]
  },
  {
   "cell_type": "code",
   "execution_count": 54,
   "id": "656d1467",
   "metadata": {},
   "outputs": [
    {
     "data": {
      "text/plain": [
       "array([[[0, 0, 0, 1],\n",
       "        [1, 0, 1, 1]],\n",
       "\n",
       "       [[1, 1, 1, 1],\n",
       "        [0, 1, 0, 1]]], dtype=int32)"
      ]
     },
     "execution_count": 54,
     "metadata": {},
     "output_type": "execute_result"
    }
   ],
   "source": [
    "cistring.gen_linkstr_index(orb_list = range(norb),nocc = nelec//2)"
   ]
  },
  {
   "cell_type": "code",
   "execution_count": null,
   "id": "7a154122",
   "metadata": {},
   "outputs": [],
   "source": []
  }
 ],
 "metadata": {
  "kernelspec": {
   "display_name": "hfds",
   "language": "python",
   "name": "python3"
  },
  "language_info": {
   "codemirror_mode": {
    "name": "ipython",
    "version": 3
   },
   "file_extension": ".py",
   "mimetype": "text/x-python",
   "name": "python",
   "nbconvert_exporter": "python",
   "pygments_lexer": "ipython3",
   "version": "3.11.11"
  }
 },
 "nbformat": 4,
 "nbformat_minor": 5
}
