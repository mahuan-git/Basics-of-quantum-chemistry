{
 "cells": [
  {
   "cell_type": "markdown",
   "id": "7872bddf",
   "metadata": {},
   "source": [
    "这是一个不是很完善的版本，如果你有什么意见，可以联系我。\n",
    "\n",
    "有部分内容参考了https://py-xdh.readthedocs.io/zh-cn/latest/index.html 的内容。\n",
    "\n"
   ]
  },
  {
   "cell_type": "markdown",
   "id": "74ec679c",
   "metadata": {},
   "source": [
    "# PySCF简介\n",
    "PySCF（Python-based Simulations of Chemistry Framework）是一个基于Python的开源量子化学软件包，专注于分子、晶体和自定义哈密顿量的电子结构计算。\n",
    "\n",
    "PySCF的优势：适合教育、研究和快速开发，社区活跃（GitHub开源），支持混合编程。\n",
    "\n",
    "PySCF的局限：大规模计算性能可能不如传统Fortran软件（如Gaussian、VASP），但对中小体系足够高效。"
   ]
  },
  {
   "cell_type": "markdown",
   "id": "279a653c",
   "metadata": {},
   "source": [
    "# 0. 环境准备\n",
    "首先需要一个Python环境，如果读者还没有Python环境的话，推荐使用Anaconda或者miniconda。通过conda管理Python环境十分方便。\n",
    "\n",
    "有了Python环境以后，安装Pyscf\n",
    "\n",
    "pip 安装\n",
    "```\n",
    "pip install pyscf\n",
    "```\n",
    "conda 安装\n",
    "```\n",
    "conda install conda-forge::pyscf\n",
    "```"
   ]
  },
  {
   "cell_type": "markdown",
   "id": "1dc4a909",
   "metadata": {},
   "source": [
    "# 1. 分子结构\n",
    "在这一小节中，这里我们讨论 PySCF 下的分子结构、基组与电子积分的调用过程。"
   ]
  },
  {
   "cell_type": "markdown",
   "id": "95e5e641",
   "metadata": {},
   "source": [
    "## 1.1 分子的构建"
   ]
  },
  {
   "cell_type": "code",
   "execution_count": 1,
   "id": "5f76cb03",
   "metadata": {},
   "outputs": [
    {
     "data": {
      "text/plain": [
       "<pyscf.gto.mole.Mole at 0x7f0ef79bf160>"
      ]
     },
     "execution_count": 1,
     "metadata": {},
     "output_type": "execute_result"
    }
   ],
   "source": [
    "from pyscf import gto\n",
    "mol = gto.Mole()\n",
    "mol.atom = [(\"H\",(0,0,0)),(\"H\",(0,0,1))]\n",
    "mol.basis = \"6-31G\"\n",
    "mol.build()"
   ]
  },
  {
   "cell_type": "markdown",
   "id": "9b1d7cfa",
   "metadata": {},
   "source": [
    "在上面的例子中，我们创建了一个最简单的STO-3G基组的氢分子。\n",
    "\n",
    "`mol = gto.Mole()` 是初始化一个 gto.Mole 类到变量 mol 中。该类保存了与分子和基组有关的绝大部分信息、以及电子积分的调用方式。\n",
    "\n",
    "`mol.atom = ...` 通过较为简单的方式作分子的结构定义。默认情况下，长度的默认单位是 Angstrom。\n",
    "\n",
    "`mol.basis = \"6-31G\"` 是定义分子使用的基组。\n",
    "\n",
    "`mol.build()` 对分子进行构建。\n",
    "\n",
    "`gto.Mole`类的一些其他可以调整的参数：\n",
    "\n",
    "`mol.spin` 指定分子的自旋数，也就是自旋向上电子数和自旋向下电子数的差值。默认值时 0。\n",
    "\n",
    "`mol.charge` 指定分子的带电数，默认值是0。"
   ]
  },
  {
   "cell_type": "markdown",
   "id": "546f09ea",
   "metadata": {},
   "source": [
    "## 1.2 分子的一些性质输出"
   ]
  },
  {
   "cell_type": "markdown",
   "id": "07727f26",
   "metadata": {},
   "source": [
    "原子核坐标"
   ]
  },
  {
   "cell_type": "code",
   "execution_count": 2,
   "id": "59b9a181",
   "metadata": {},
   "outputs": [
    {
     "data": {
      "text/plain": [
       "array([[0.        , 0.        , 0.        ],\n",
       "       [0.        , 0.        , 1.88972612]])"
      ]
     },
     "execution_count": 2,
     "metadata": {},
     "output_type": "execute_result"
    }
   ],
   "source": [
    "coords = mol.atom_coords()\n",
    "coords"
   ]
  },
  {
   "cell_type": "markdown",
   "id": "ade6328d",
   "metadata": {},
   "source": [
    "原子核电荷"
   ]
  },
  {
   "cell_type": "code",
   "execution_count": 3,
   "id": "976e6968",
   "metadata": {},
   "outputs": [
    {
     "data": {
      "text/plain": [
       "array([1, 1], dtype=int32)"
      ]
     },
     "execution_count": 3,
     "metadata": {},
     "output_type": "execute_result"
    }
   ],
   "source": [
    "charges = mol.atom_charges()\n",
    "charges"
   ]
  },
  {
   "cell_type": "markdown",
   "id": "d8071dfc",
   "metadata": {},
   "source": [
    "有了原子核电荷和原子核坐标，我们就可以计算原子核排斥能了\n",
    "$$\\sum_{A=1}^M \\sum_{B>A}^M \\frac{Z_A Z_B}{R_{A B}}$$"
   ]
  },
  {
   "cell_type": "markdown",
   "id": "1614abbe",
   "metadata": {},
   "source": [
    "PySCF中可以直接调用`mol.energy_nuc()`获取核排斥能"
   ]
  },
  {
   "cell_type": "code",
   "execution_count": 4,
   "id": "42b82596",
   "metadata": {},
   "outputs": [
    {
     "data": {
      "text/plain": [
       "0.52917721092"
      ]
     },
     "execution_count": 4,
     "metadata": {},
     "output_type": "execute_result"
    }
   ],
   "source": [
    "mol.energy_nuc()"
   ]
  },
  {
   "cell_type": "markdown",
   "id": "3d838f5f",
   "metadata": {},
   "source": [
    "## 1.3 电子积分\n",
    "让我们回顾一下采取了Born-Oppenheimer近似后的电子哈密顿量：\n",
    "$$\n",
    "H_{e l e c}=-\\sum_{i=1}^N \\frac{1}{2} \\nabla_i^2-\\sum_{i=1}^N \\sum_{A=1}^M \\frac{Z_A}{r_{i A}}+\\sum_{i=1}^N \\sum_{j>i}^N \\frac{1}{r_{i j}}\n",
    "$$\n",
    "我们要在给定的基组上计算这些算符在给定基函数的矩阵元，将上述算符转化为矩阵，从而在给定的有限基组下近似得求解该哈密顿量的基态"
   ]
  },
  {
   "cell_type": "markdown",
   "id": "a16d7902",
   "metadata": {},
   "source": [
    "方便起见，我们将上面的电子哈密顿量表达为：\n",
    "$$\n",
    "H_{elec} = H_{T} + H_{V} + H_{ee} \n",
    "$$\n",
    "其中动能项\n",
    "$$\n",
    "H_{T} = -\\sum_{i=1}^N \\frac{1}{2} \\nabla_i^2\n",
    "$$\n",
    "势能项\n",
    "$$\n",
    "H_{V} = -\\sum_{i=1}^N \\sum_{A=1}^M \\frac{Z_A}{r_{i A}}\n",
    "$$\n",
    "以及电子排斥项：\n",
    "$$\n",
    "H_{ee} = \\sum_{i=1}^N \\sum_{j>i}^N \\frac{1}{r_{i j}}\n",
    "$$"
   ]
  },
  {
   "cell_type": "markdown",
   "id": "ec5e0207",
   "metadata": {},
   "source": [
    "首先我们可以计算基组的重叠积分：\n",
    "$$\n",
    "\\left\\langle i \\mid j\\right\\rangle=S_{i j} \n",
    "$$\n",
    "(Modern Quantum Chemistry, Eq. 3.34)"
   ]
  },
  {
   "cell_type": "code",
   "execution_count": 5,
   "id": "a74d8172",
   "metadata": {},
   "outputs": [
    {
     "data": {
      "text/plain": [
       "array([[1.        , 0.65829205, 0.25330671, 0.41171988],\n",
       "       [0.65829205, 1.        , 0.41171988, 0.74978653],\n",
       "       [0.25330671, 0.41171988, 1.        , 0.65829205],\n",
       "       [0.41171988, 0.74978653, 0.65829205, 1.        ]])"
      ]
     },
     "execution_count": 5,
     "metadata": {},
     "output_type": "execute_result"
    }
   ],
   "source": [
    "S = mol.intor(\"int1e_ovlp\")\n",
    "S"
   ]
  },
  {
   "cell_type": "markdown",
   "id": "97645ad7",
   "metadata": {},
   "source": [
    "由S矩阵可见我们的基组各基函数之间并不正交。"
   ]
  },
  {
   "cell_type": "markdown",
   "id": "282f6217",
   "metadata": {},
   "source": [
    "我们也可以计算动能项在给定基组下的矩阵元：\n",
    "$$\n",
    "\\langle i | H_{T} | j \\rangle\n",
    "$$\n"
   ]
  },
  {
   "cell_type": "code",
   "execution_count": 6,
   "id": "036ac0e3",
   "metadata": {},
   "outputs": [
    {
     "data": {
      "text/plain": [
       "array([[1.39567828, 0.25973508, 0.02815422, 0.11133304],\n",
       "       [0.25973508, 0.2419167 , 0.11133304, 0.14656382],\n",
       "       [0.02815422, 0.11133304, 1.39567828, 0.25973508],\n",
       "       [0.11133304, 0.14656382, 0.25973508, 0.2419167 ]])"
      ]
     },
     "execution_count": 6,
     "metadata": {},
     "output_type": "execute_result"
    }
   ],
   "source": [
    "T = mol.intor(\"int1e_kin\")\n",
    "T"
   ]
  },
  {
   "cell_type": "markdown",
   "id": "4c22c91c",
   "metadata": {},
   "source": [
    "我们也可以计算势能项在给定基组下的矩阵元：\n",
    "$$\n",
    "\\langle i | H_{V} | j \\rangle\n",
    "$$\n"
   ]
  },
  {
   "cell_type": "code",
   "execution_count": 7,
   "id": "423f54d2",
   "metadata": {},
   "outputs": [
    {
     "data": {
      "text/plain": [
       "array([[-2.18153331, -1.085489  , -0.49705041, -0.70046637],\n",
       "       [-1.085489  , -1.10173122, -0.70046637, -0.87620977],\n",
       "       [-0.49705041, -0.70046637, -2.18153331, -1.085489  ],\n",
       "       [-0.70046637, -0.87620977, -1.085489  , -1.10173122]])"
      ]
     },
     "execution_count": 7,
     "metadata": {},
     "output_type": "execute_result"
    }
   ],
   "source": [
    "V = mol.intor('int1e_nuc')\n",
    "V"
   ]
  },
  {
   "cell_type": "markdown",
   "id": "c25a912b",
   "metadata": {},
   "source": [
    "计算电子排斥项在基组下的矩阵元\n",
    "$$\n",
    "\\langle \\ ij| H_{ee} | kl \\rangle\n",
    "$$\n",
    "在书中也将这个积分简写为\n",
    "$$\n",
    "\\langle ij | kl \\rangle\n",
    "$$"
   ]
  },
  {
   "cell_type": "code",
   "execution_count": 8,
   "id": "c1769908",
   "metadata": {},
   "outputs": [
    {
     "data": {
      "text/plain": [
       "(4, 4, 4, 4)"
      ]
     },
     "execution_count": 8,
     "metadata": {},
     "output_type": "execute_result"
    }
   ],
   "source": [
    "eri = mol.intor(\"int2e\")\n",
    "eri.shape"
   ]
  },
  {
   "cell_type": "markdown",
   "id": "ed1240f3",
   "metadata": {},
   "source": [
    "当然，可以计算的电子积分还有很多很多，详见PySCF的文档。\n",
    "\n",
    "在这里我们不细究这些电子积分的具体计算过程是怎么样做的。我们也不细究各个基组是怎么定义的，尽管这是量子化学中非常重要的一个研究方向。"
   ]
  },
  {
   "cell_type": "markdown",
   "id": "f44c4334",
   "metadata": {},
   "source": [
    "# 2. Hartree-Fock 自洽场计算\n",
    "\n",
    "## 2.1 PySCF的Hartree Fock 计算拆解"
   ]
  },
  {
   "cell_type": "code",
   "execution_count": 9,
   "id": "44df0453",
   "metadata": {},
   "outputs": [
    {
     "name": "stdout",
     "output_type": "stream",
     "text": [
      "converged SCF energy = -1.09480796286051\n"
     ]
    },
    {
     "data": {
      "text/plain": [
       "<pyscf.scf.hf.RHF at 0x7f0ef79ee9a0>"
      ]
     },
     "execution_count": 9,
     "metadata": {},
     "output_type": "execute_result"
    }
   ],
   "source": [
    "from pyscf import scf\n",
    "mf = scf.RHF(mol)\n",
    "mf.run()"
   ]
  },
  {
   "cell_type": "markdown",
   "id": "38f47de7",
   "metadata": {},
   "source": [
    "以上就是一个简单的RHF计算，在PySCF中已经是一个封装得很好得方法了，非常简单就可以调用。接下来我们尝试对PySCF中的RHF方法进行拆解。"
   ]
  },
  {
   "cell_type": "markdown",
   "id": "f47a6bfb",
   "metadata": {},
   "source": [
    "我们要求解的方程是Hartree-Fock方程：\n",
    "$$\n",
    "\\left[h(1)+\\sum_{b=1}^N\\left(J_b(1)-K_b(1)\\right)\\right] \\chi_a(1)=\\sum_{b=1}^N \\varepsilon_{b a} \\chi_b(1)\n",
    "$$\n",
    "(Modern Quantum Chemistry, Eq. 3.48)"
   ]
  },
  {
   "cell_type": "markdown",
   "id": "afe8c864",
   "metadata": {},
   "source": [
    "其中$h(1)$表示的是单电子部分，也就是\n",
    "$$\n",
    "h(1)=-\\frac{1}{2} \\nabla_1^2-\\sum_A \\frac{Z_A}{r_{1 A}}\n",
    "$$\n",
    "(Modern Quantum Chemistry, Eq. 3.5)\n",
    "\n",
    "可以用`mf.get_hcore()`来调用$h(1)$在基组下的矩阵元"
   ]
  },
  {
   "cell_type": "code",
   "execution_count": 10,
   "id": "0b0247fa",
   "metadata": {},
   "outputs": [
    {
     "data": {
      "text/plain": [
       "array([[-0.78585503, -0.82575392, -0.46889618, -0.58913333],\n",
       "       [-0.82575392, -0.85981452, -0.58913333, -0.72964595],\n",
       "       [-0.46889618, -0.58913333, -0.78585503, -0.82575392],\n",
       "       [-0.58913333, -0.72964595, -0.82575392, -0.85981452]])"
      ]
     },
     "execution_count": 10,
     "metadata": {},
     "output_type": "execute_result"
    }
   ],
   "source": [
    "h1 = mf.get_hcore()\n",
    "h1"
   ]
  },
  {
   "cell_type": "markdown",
   "id": "9d8f1309",
   "metadata": {},
   "source": [
    "$h(1)$就是我们之前计算过的动能项和势能项之和，可以验证它们是相等的。"
   ]
  },
  {
   "cell_type": "code",
   "execution_count": 11,
   "id": "3232eacd",
   "metadata": {},
   "outputs": [
    {
     "data": {
      "text/plain": [
       "True"
      ]
     },
     "execution_count": 11,
     "metadata": {},
     "output_type": "execute_result"
    }
   ],
   "source": [
    "import numpy as np\n",
    "np.isclose(T+V , h1).all()"
   ]
  },
  {
   "cell_type": "markdown",
   "id": "069c0e54",
   "metadata": {},
   "source": [
    "`mf.make_rdm1()`方法可以得到单粒子密度矩阵"
   ]
  },
  {
   "cell_type": "code",
   "execution_count": 13,
   "id": "1385ce44",
   "metadata": {},
   "outputs": [
    {
     "data": {
      "text/plain": [
       "NPArrayWithTag([[0.1651197 , 0.19063096, 0.1651197 , 0.19063096],\n",
       "                [0.19063096, 0.22008375, 0.19063096, 0.22008375],\n",
       "                [0.1651197 , 0.19063096, 0.1651197 , 0.19063096],\n",
       "                [0.19063096, 0.22008375, 0.19063096, 0.22008375]])"
      ]
     },
     "execution_count": 13,
     "metadata": {},
     "output_type": "execute_result"
    }
   ],
   "source": [
    "dm = mf.make_rdm1()\n",
    "dm"
   ]
  },
  {
   "cell_type": "markdown",
   "id": "1ffcfbd6",
   "metadata": {},
   "source": [
    "所谓的密度矩阵就是描述电子在基函数上分布情况的物理量"
   ]
  },
  {
   "cell_type": "markdown",
   "id": "ff11b4f7",
   "metadata": {},
   "source": [
    "接下来我们就要计算Hartree Fock方法中最重要的部分，库伦算符$J$和交换算符$K$在基函数上的矩阵元"
   ]
  },
  {
   "cell_type": "markdown",
   "id": "f5a17f45",
   "metadata": {},
   "source": [
    "根据Modern Quantum Chemistry Eq. 3.154\n",
    "$$\n",
    "\\begin{aligned}\n",
    "F_{\\mu \\nu} & =H_{\\mu \\nu}^{\\mathrm{core}}+\\sum_a^{N / 2} \\sum_{\\lambda \\sigma} C_{\\lambda a} C_{\\sigma a}^*[2(\\mu v \\mid \\sigma \\lambda)-(\\mu \\lambda \\mid \\sigma v)] \\\\\n",
    "& =H_{\\mu \\nu}^{\\mathrm{core}}+\\sum_{\\lambda \\sigma} P_{\\lambda \\sigma}\\left[(\\mu \\nu \\mid \\sigma \\lambda)-\\frac{1}{2}(\\mu \\lambda \\mid \\sigma v)\\right] \\\\\n",
    "& =H_{\\mu \\nu}^{\\mathrm{core}}+G_{\\mu \\nu}\n",
    "\\end{aligned}\n",
    "$$"
   ]
  },
  {
   "cell_type": "code",
   "execution_count": 16,
   "id": "71f5c40d",
   "metadata": {},
   "outputs": [
    {
     "data": {
      "text/plain": [
       "array([[1.31017042, 0.78260456, 0.34843549, 0.50985313],\n",
       "       [0.78260456, 0.94283295, 0.50985313, 0.74362043],\n",
       "       [0.34843549, 0.50985313, 1.31017042, 0.78260456],\n",
       "       [0.50985313, 0.74362043, 0.78260456, 0.94283295]])"
      ]
     },
     "execution_count": 16,
     "metadata": {},
     "output_type": "execute_result"
    }
   ],
   "source": [
    "J = np.einsum('ijkl,kl-> ij',eri, dm)\n",
    "J"
   ]
  },
  {
   "cell_type": "markdown",
   "id": "6e717754",
   "metadata": {},
   "source": [
    "这部分可能比较难，需要结合书本和代码仔细学习一下。"
   ]
  },
  {
   "cell_type": "markdown",
   "id": "a4d3e0c5",
   "metadata": {},
   "source": [
    "我们也可以调用`mf.get_j()`使用PySCF提供的方法计算$J$ 不难验证和我们计算的$J$是一致的。"
   ]
  },
  {
   "cell_type": "code",
   "execution_count": 17,
   "id": "2f7866a4",
   "metadata": {},
   "outputs": [
    {
     "data": {
      "text/plain": [
       "array([[1.31017042, 0.78260456, 0.34843549, 0.50985313],\n",
       "       [0.78260456, 0.94283295, 0.50985313, 0.74362043],\n",
       "       [0.34843549, 0.50985313, 1.31017042, 0.78260456],\n",
       "       [0.50985313, 0.74362043, 0.78260456, 0.94283295]])"
      ]
     },
     "execution_count": 17,
     "metadata": {},
     "output_type": "execute_result"
    }
   ],
   "source": [
    "mf.get_j(dm=dm)"
   ]
  },
  {
   "cell_type": "code",
   "execution_count": 20,
   "id": "2275266e",
   "metadata": {},
   "outputs": [
    {
     "data": {
      "text/plain": [
       "True"
      ]
     },
     "execution_count": 20,
     "metadata": {},
     "output_type": "execute_result"
    }
   ],
   "source": [
    "np.isclose(mf.get_j(dm=dm),J).all()"
   ]
  },
  {
   "cell_type": "markdown",
   "id": "26aa9de7",
   "metadata": {},
   "source": [
    "用同样的方法也可以计算$K$"
   ]
  },
  {
   "cell_type": "code",
   "execution_count": 21,
   "id": "13161c63",
   "metadata": {},
   "outputs": [
    {
     "data": {
      "text/plain": [
       "array([[0.87626561, 0.77458172, 0.59324087, 0.6816691 ],\n",
       "       [0.77458172, 0.7923071 , 0.6816691 , 0.75227283],\n",
       "       [0.59324087, 0.6816691 , 0.87626561, 0.77458172],\n",
       "       [0.6816691 , 0.75227283, 0.77458172, 0.7923071 ]])"
      ]
     },
     "execution_count": 21,
     "metadata": {},
     "output_type": "execute_result"
    }
   ],
   "source": [
    "K = np.einsum('ikjl,kl-> ij',eri, dm)\n",
    "K"
   ]
  },
  {
   "cell_type": "code",
   "execution_count": 24,
   "id": "248d258d",
   "metadata": {},
   "outputs": [
    {
     "data": {
      "text/plain": [
       "True"
      ]
     },
     "execution_count": 24,
     "metadata": {},
     "output_type": "execute_result"
    }
   ],
   "source": [
    "np.isclose(mf.get_k(dm = dm),K).all()"
   ]
  },
  {
   "cell_type": "markdown",
   "id": "cdf5ad06",
   "metadata": {},
   "source": [
    "根据Eq. 3.154:\n",
    "$$\n",
    "\\begin{aligned}\n",
    "F_{\\mu \\nu} & =H_{\\mu \\nu}^{\\mathrm{core}}+\\sum_a^{N / 2} \\sum_{\\lambda \\sigma} C_{\\lambda a} C_{\\sigma a}^*[2(\\mu v \\mid \\sigma \\lambda)-(\\mu \\lambda \\mid \\sigma v)] \\\\\n",
    "& =H_{\\mu \\nu}^{\\mathrm{core}}+\\sum_{\\lambda \\sigma} P_{\\lambda \\sigma}\\left[(\\mu \\nu \\mid \\sigma \\lambda)-\\frac{1}{2}(\\mu \\lambda \\mid \\sigma v)\\right] \\\\\n",
    "& =H_{\\mu \\nu}^{\\mathrm{core}}+G_{\\mu \\nu}\n",
    "\\end{aligned}\n",
    "$$"
   ]
  },
  {
   "cell_type": "code",
   "execution_count": 47,
   "id": "2ff919e7",
   "metadata": {},
   "outputs": [
    {
     "data": {
      "text/plain": [
       "array([[ 0.08618259, -0.43044022, -0.41708113, -0.42011475],\n",
       "       [-0.43044022, -0.31313512, -0.42011475, -0.36216194],\n",
       "       [-0.41708113, -0.42011475,  0.08618259, -0.43044022],\n",
       "       [-0.42011475, -0.36216194, -0.43044022, -0.31313512]])"
      ]
     },
     "execution_count": 47,
     "metadata": {},
     "output_type": "execute_result"
    }
   ],
   "source": [
    "Fock = h1+J-0.5*K\n",
    "Fock"
   ]
  },
  {
   "cell_type": "markdown",
   "id": "2ef1319d",
   "metadata": {},
   "source": [
    "也可以用`mf.get_fock()`方法直接得到Fock矩阵。"
   ]
  },
  {
   "cell_type": "code",
   "execution_count": 33,
   "id": "32716f56",
   "metadata": {},
   "outputs": [
    {
     "data": {
      "text/plain": [
       "True"
      ]
     },
     "execution_count": 33,
     "metadata": {},
     "output_type": "execute_result"
    }
   ],
   "source": [
    "np.isclose(mf.get_fock(dm = dm),Fock).all()"
   ]
  },
  {
   "cell_type": "markdown",
   "id": "176cafcd",
   "metadata": {},
   "source": [
    "至此我们已经完成了Hartree-Fock计算中所有需要的组件！我们可以写一个我们自己的小型Hartree-Fock代码！"
   ]
  },
  {
   "cell_type": "markdown",
   "id": "c162c371",
   "metadata": {},
   "source": [
    "## 2.2 一个小型的Hartree-Fock SCF程序\n",
    "我们按照Modern Quantum Chemistry P146 （汉化版P127-128）的流程来构建一个小型的Hartree Fock算法。"
   ]
  },
  {
   "cell_type": "markdown",
   "id": "a77650e6",
   "metadata": {},
   "source": [
    "1．确定一个分子（一组核坐标 $\\left\\{\\mathbf{R}_A\\right\\}$ ，原子序数 $Z_A$ ，电子数 $N$ ）和基组 $\\left\\{\\phi_A\\right\\}$ ．"
   ]
  },
  {
   "cell_type": "code",
   "execution_count": 49,
   "id": "e34c6fe8",
   "metadata": {},
   "outputs": [],
   "source": [
    "from pyscf import gto, scf\n",
    "import numpy as np\n",
    "import scipy\n",
    "def geometry_h2o(bl = 1.0 , theta = np.pi *104/180):\n",
    "    \"\"\"get geometry for h2o\"\"\"\n",
    "    geometry = []\n",
    "    geometry.append((\"O\",(0,0,0)))\n",
    "    geometry.append((\"H\",(0,bl*np.sin(theta/2),bl*np.cos(theta/2))))\n",
    "    geometry.append((\"H\",(0,-bl*np.sin(theta/2),bl*np.cos(theta/2))))\n",
    "    return geometry\n",
    "\n",
    "mol = gto.Mole()\n",
    "mol.atom = geometry_h2o()\n",
    "mol.basis = \"sto-3g\"\n",
    "mol.build()\n",
    "\n",
    "n_atom = mol.natm    # 原子数\n",
    "n_mo = n_ao = mol.nao  # 分子轨道数，原子轨道数（基函数个数）\n",
    "n_occ = mol.nelectron//2  # 占据轨道数"
   ]
  },
  {
   "cell_type": "markdown",
   "id": "bf556e91",
   "metadata": {},
   "source": [
    "2．计算所需的分子积分，$S_{\\mu \\nu}, H_{\\mu \\nu}^{\\text {core }},(\\mu \\nu \\mid \\lambda \\sigma)$ ．"
   ]
  },
  {
   "cell_type": "code",
   "execution_count": 50,
   "id": "92aad061",
   "metadata": {},
   "outputs": [],
   "source": [
    "S = mol.intor(\"int1e_ovlp\")\n",
    "H1 = mol.intor(\"int1e_kin\") + mol.intor(\"int1e_nuc\")\n",
    "eri = mol.intor(\"int2e\")"
   ]
  },
  {
   "cell_type": "markdown",
   "id": "43b3e6d0",
   "metadata": {},
   "source": [
    "3．对角化重叠矩阵 $\\mathbf{S}$ ，用（3．167）或（3．169）得到变换矩阵 X．\n",
    "$$\n",
    "\\mathbf{X}=\\mathbf{S}^{-1 / 2}=\\mathbf{U} \\mathbf{s}^{-1 / 2} \\mathbf{U}^{\\dagger}\n",
    "$$"
   ]
  },
  {
   "cell_type": "code",
   "execution_count": 51,
   "id": "515d33b3",
   "metadata": {},
   "outputs": [],
   "source": [
    "X = scipy.linalg.fractional_matrix_power(S, -0.5)\n",
    "# X = np.linalg.inv(np.linalg.cholesky(S).T)"
   ]
  },
  {
   "cell_type": "markdown",
   "id": "c83730ea",
   "metadata": {},
   "source": [
    "4．猜测一个密度矩阵 $\\mathbf{P}$ ．"
   ]
  },
  {
   "cell_type": "code",
   "execution_count": 74,
   "id": "e90f2362",
   "metadata": {},
   "outputs": [
    {
     "data": {
      "text/plain": [
       "array([[0., 0., 0., 0., 0., 0., 0.],\n",
       "       [0., 0., 0., 0., 0., 0., 0.],\n",
       "       [0., 0., 0., 0., 0., 0., 0.],\n",
       "       [0., 0., 0., 0., 0., 0., 0.],\n",
       "       [0., 0., 0., 0., 0., 0., 0.],\n",
       "       [0., 0., 0., 0., 0., 0., 0.],\n",
       "       [0., 0., 0., 0., 0., 0., 0.]])"
      ]
     },
     "execution_count": 74,
     "metadata": {},
     "output_type": "execute_result"
    }
   ],
   "source": [
    "D = scf.get_init_guess(mol) # PySCF提供了猜测初始密度矩阵的方法\n",
    "D = np.random.random((n_ao, n_ao))  # 也可以随机一个密度矩阵。\n",
    "D = np.zeros((n_ao, n_ao))    # 初始化为0也不是不行\n",
    "# 当然，在算大型体系的时候还是根据一定的方法找一个好的初猜。\n",
    "D"
   ]
  },
  {
   "cell_type": "markdown",
   "id": "5d748c48",
   "metadata": {},
   "source": [
    "5．用密度矩阵 $\\mathbf{P}$ 计算（3．154）中的矩阵 $\\mathbf{G}$ 和双电子积分 $(\\mu v \\mid \\lambda \\sigma)$ ．\n",
    "$$\n",
    "F_{\\mu \\nu} =H_{\\mu \\nu}^{\\mathrm{core}}+\\sum_{\\lambda \\sigma} P_{\\lambda \\sigma}\\left[(\\mu \\nu \\mid \\sigma \\lambda)-\\frac{1}{2}(\\mu \\lambda \\mid \\sigma v)\\right] \n",
    "$$\n",
    "6． $\\mathbf{G}$ 加核 Hamiltonian 矩阵得到 Fock 矩阵 $\\mathbf{F}=\\mathbf{H}^{\\text {core }}+\\mathbf{G}$ ．\n",
    "\n",
    "7．计算变换后的 Fock 矩阵 $\\mathbf{F}^{\\prime}=\\mathbf{X}^{\\dagger} \\mathbf{F X}$ ．\n",
    "\n",
    "8．对角化 $\\mathbf{F}^{\\prime}$ 得到 $\\mathbf{C}^{\\prime}, \\boldsymbol{\\varepsilon}$ ．\n",
    "\n",
    "9．根据（3．14）用 $\\mathbf{C}$ 构建新密度矩阵 $\\mathbf{P}$ ．"
   ]
  },
  {
   "cell_type": "code",
   "execution_count": 75,
   "id": "4f05e219",
   "metadata": {},
   "outputs": [],
   "source": [
    "D_old = np.random.random((n_ao, n_ao))\n",
    "count = 0\n",
    "\n",
    "while (not np.allclose(D, D_old)):\n",
    "    if count > 500:\n",
    "        raise ValueError(\"SCF not converged!\")\n",
    "    count += 1\n",
    "    D_old = D\n",
    "    F = H1 + np.einsum(\"uvkl, kl -> uv\", eri, D) - 0.5 * np.einsum(\"ukvl, kl -> uv\", eri, D) # 计算G (J-1/2 K)，与H1相加得到Fock矩阵\n",
    "    Fp = X.T @ F @ X                     # 根据S的正交化结果计算在正交基组下的 Fock 矩阵 F^\\prime\n",
    "    e, Cp = np.linalg.eigh(Fp)          # 对角化F^\\prime 得到Fock矩阵的本征值和本征向量\n",
    "    C = X @ Cp                          # 将 C 变换回非正交基组下。这里的C就是分子轨道和原子轨道之间的变换矩阵\n",
    "    D = 2 * C[:, :n_occ] @ C[:, :n_occ].T"
   ]
  },
  {
   "cell_type": "markdown",
   "id": "97ef5f05",
   "metadata": {},
   "source": [
    "10．确定该过程是否收敛，即确定（10）中密度矩阵是否与前一个密度矩阵在某种判据下相同．若未收玫，回到（5）用新密度矩阵计算．\n",
    "\n",
    "11．若收玫，则用得到的解表示出 $\\mathbf{C}, \\mathbf{P}, \\mathbf{F}$ 等，即计算期望值和其他想求的量．"
   ]
  },
  {
   "cell_type": "code",
   "execution_count": 78,
   "id": "f7bcdb7a",
   "metadata": {},
   "outputs": [],
   "source": [
    "E_elec = np.einsum(\"ij,ij ->\",H1,D) + 0.5 * np.einsum(\"uvkl, uv, kl ->\", eri, D, D) - 0.25 * np.einsum(\"ukvl, uv, kl ->\", eri, D, D)"
   ]
  },
  {
   "cell_type": "markdown",
   "id": "ff3c85e1",
   "metadata": {},
   "source": [
    "别忘了把原子核能加上"
   ]
  },
  {
   "cell_type": "code",
   "execution_count": 79,
   "id": "87dc93d5",
   "metadata": {},
   "outputs": [],
   "source": [
    "E_nuc = mol.energy_nuc()"
   ]
  },
  {
   "cell_type": "code",
   "execution_count": 80,
   "id": "9d8cba8c",
   "metadata": {},
   "outputs": [
    {
     "name": "stdout",
     "output_type": "stream",
     "text": [
      "SCF converges in 18 iterations\n",
      "Electron energy = -83.76746223064198 Hartree\n",
      "Nuclear energy = 8.802603134549392 Hartree\n",
      "Total energy = -74.9648590960926 Hartree\n"
     ]
    }
   ],
   "source": [
    "print(f\"SCF converges in {count} iterations\")\n",
    "print(f\"Electron energy = {E_elec} Hartree\")\n",
    "print(f\"Nuclear energy = {E_nuc} Hartree\")\n",
    "print(f\"Total energy = {E_elec + E_nuc} Hartree\")"
   ]
  },
  {
   "cell_type": "markdown",
   "id": "0573dc72",
   "metadata": {},
   "source": [
    "和PySCF计算得到的对比一下"
   ]
  },
  {
   "cell_type": "code",
   "execution_count": 82,
   "id": "32112305",
   "metadata": {},
   "outputs": [
    {
     "name": "stdout",
     "output_type": "stream",
     "text": [
      "converged SCF energy = -74.9648590960925\n",
      "RHF energy with PySCF: -74.96485909609247 Hartree\n",
      "Error = -1.2789769243681803e-13 Hartree\n"
     ]
    }
   ],
   "source": [
    "mf = scf.RHF(mol).run()\n",
    "print(f\"RHF energy with PySCF: {mf.e_tot} Hartree\")\n",
    "print(f\"Error = {E_elec + E_nuc - mf.e_tot} Hartree\")"
   ]
  },
  {
   "cell_type": "markdown",
   "id": "c0456458",
   "metadata": {},
   "source": [
    "至此一个完整的SCF流程就完成了"
   ]
  },
  {
   "cell_type": "code",
   "execution_count": null,
   "id": "384cf25b",
   "metadata": {},
   "outputs": [],
   "source": []
  }
 ],
 "metadata": {
  "kernelspec": {
   "display_name": "py38",
   "language": "python",
   "name": "python3"
  },
  "language_info": {
   "codemirror_mode": {
    "name": "ipython",
    "version": 3
   },
   "file_extension": ".py",
   "mimetype": "text/x-python",
   "name": "python",
   "nbconvert_exporter": "python",
   "pygments_lexer": "ipython3",
   "version": "3.8.20"
  }
 },
 "nbformat": 4,
 "nbformat_minor": 5
}
