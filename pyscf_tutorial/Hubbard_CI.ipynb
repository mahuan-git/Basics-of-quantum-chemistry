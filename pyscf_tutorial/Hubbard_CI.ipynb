{
 "cells": [
  {
   "cell_type": "markdown",
   "id": "aa0b59d1",
   "metadata": {},
   "source": [
    "# 极简（大概）FCI\n",
    "\n",
    "这一部分我们先以Hubbard模型为例子实现对Hubbard模型的简单FCI算法，因为Hubbard模型的FCI矩阵计算较为简单。\n",
    "\n",
    "然后我们借用PySCF的部分代码，也实现一个较简单的对于分子体系二次量子化哈密顿量的FCI算法"
   ]
  },
  {
   "cell_type": "markdown",
   "id": "50ec3ac1",
   "metadata": {},
   "source": [
    "## Hubbard模型简介\n",
    "Hubbard模型是凝聚态物理中研究强关联电子系统的一个基础理论模型，由物理学家John Hubbard于1963年提出。它通过简化的数学框架描述了电子在晶格中的运动及其相互作用，是理解量子多体现象（如Mott绝缘体、高温超导等）的重要工具。\n",
    "\n",
    "![2D Hubbard Model](./fig/2dhubbard.png \"2D Hubbard Model\")\n",
    "\n",
    "Hubbard模型的哈密顿量如下所示：\n",
    "$$\n",
    "H = -t \\sum_{\\langle i, j\\rangle, \\sigma}\\left(c_{i \\sigma}^{\\dagger} c_{j \\sigma}+\\text { h.c. }\\right) + U \\sum_i n_{i \\uparrow} n_{i \\downarrow}\n",
    "$$\n",
    "\n",
    "Hubbard 模型一般定义在一套格点上。其中第一项是动能项，只考虑近邻格点之间的相互作用。第二项是局域的电子-电子相互作用，Hubbard 模型只考虑了同一格点的自旋向上和自旋向下轨道都被占据时的电子-电子相互作用，这是一种对实际强关联系统的简化。"
   ]
  },
  {
   "cell_type": "markdown",
   "id": "a8698be8",
   "metadata": {},
   "source": [
    "### 一维Hubbard模型的FCI算法\n",
    "我们用最简单的一维Hubbard模型为例子介绍FCI方法。首先对一维Hubbard Model进行一下定义："
   ]
  },
  {
   "cell_type": "code",
   "execution_count": 1,
   "id": "0a6c8968",
   "metadata": {},
   "outputs": [],
   "source": [
    "import numpy as np\n",
    "\n",
    "# Hubbard模型定义：\n",
    "norb = 6    # 格点数\n",
    "nelec = 6   # 电子数\n",
    "Sz = 0      # 自旋\n",
    "U = 8       # Hubbard U 值\n",
    "t = 1       # Hubbard t 值\n",
    "\n",
    "nelec_a = (nelec+Sz) //2  # 自旋向上电子数\n",
    "nelec_b = (nelec-Sz) //2  # 自旋向下电子数\n",
    "\n",
    "h1 = np.zeros((norb,norb))  # 初始化单电子项\n",
    "h2 = np.zeros((norb,norb,norb,norb))   # 初始化双电子项\n",
    "\n",
    "# 一维 Hubbard Model 哈密顿量的定义： \n",
    "orb_list = np.arange(norb)\n",
    "for orb_i in orb_list:\n",
    "    # 对每个格点设置和相邻格点的相互作用\n",
    "    orb_j = (orb_i + 1)%norb\n",
    "    h1[orb_i,orb_j] = -1\n",
    "    orb_j = (orb_i - 1)%norb\n",
    "    h1[orb_i,orb_j] = -1\n",
    "\n",
    "    # 每个格点还有Hubbard U项\n",
    "    h2[orb_i,orb_i,orb_i,orb_i] = U"
   ]
  },
  {
   "cell_type": "markdown",
   "id": "018cff85",
   "metadata": {},
   "source": [
    "把h1 print出来看一下"
   ]
  },
  {
   "cell_type": "code",
   "execution_count": 2,
   "id": "af21ba52",
   "metadata": {},
   "outputs": [
    {
     "data": {
      "text/plain": [
       "array([[ 0., -1.,  0.,  0.,  0., -1.],\n",
       "       [-1.,  0., -1.,  0.,  0.,  0.],\n",
       "       [ 0., -1.,  0., -1.,  0.,  0.],\n",
       "       [ 0.,  0., -1.,  0., -1.,  0.],\n",
       "       [ 0.,  0.,  0., -1.,  0., -1.],\n",
       "       [-1.,  0.,  0.,  0., -1.,  0.]])"
      ]
     },
     "execution_count": 2,
     "metadata": {},
     "output_type": "execute_result"
    }
   ],
   "source": [
    "h1"
   ]
  },
  {
   "cell_type": "markdown",
   "id": "08da9e52",
   "metadata": {},
   "source": [
    "然后就是写一个极简的FCI，计算一下这个哈密顿量的精确能量。"
   ]
  },
  {
   "cell_type": "markdown",
   "id": "ec612369",
   "metadata": {},
   "source": [
    "首先要弄清楚在这个希尔伯特空间里面到底有哪些组态。\n",
    "\n",
    "根据我们前面的定义，有norb个格点，对应norb个轨道,2*norb个自旋轨道，其中norb个自旋向上轨道，norb个自旋向下轨道。有nelec个电子，其中nelec_a个自旋向上电子，nelec_b个自旋向下电子。可以通过排列组合得到所有可能的组态进行FCI计算。"
   ]
  },
  {
   "cell_type": "code",
   "execution_count": 3,
   "id": "7d64b94f",
   "metadata": {},
   "outputs": [],
   "source": [
    "from itertools import combinations\n",
    "\n",
    "configurations = []\n",
    "for spin_up_occ in combinations(range(norb), nelec_a):\n",
    "    for spin_dn_occ in combinations(range(norb), nelec_b):\n",
    "        configuration = np.zeros(2*norb) # 定义一个空组态，其长度为2*norb，等于自旋轨道数。自旋轨道的排列顺序为： 1↑ 1↓ 2↑ 2↓ 3↑ 3↓ ...\n",
    "        spin_up_occ = np.array(spin_up_occ)\n",
    "        spin_dn_occ = np.array(spin_dn_occ)\n",
    "        configuration[2*spin_up_occ] = 1        # 根据spin_up_occ把占据的spin up obritals设置为1\n",
    "        configuration[2*spin_dn_occ + 1] = 1    # 根据spin_dn_occ把占据的spin down obritals设置为1\n",
    "        configurations.append(configuration)\n",
    "configurations = np.array(configurations)"
   ]
  },
  {
   "cell_type": "markdown",
   "id": "82a69c03",
   "metadata": {},
   "source": [
    "configurations里面就包括了所有组态了\n",
    "\n",
    "我们可以将组态用一个二进制数来存储，比如可以把[1., 1., 1., 0., 0., 1., 0., 0.] 这个组态用 '0b100111' 这个二进制数进行存储，也可以进一步存储成十进制数(PySCF里面称之为ci_string或者string，我们沿用这个称呼)39，写一个把我们得到的configuration转换成十进制数(string)的函数："
   ]
  },
  {
   "cell_type": "code",
   "execution_count": 4,
   "id": "381609ab",
   "metadata": {},
   "outputs": [],
   "source": [
    "def config_to_string(configurations:np.array):\n",
    "    configurations = np.array(configurations,dtype = np.int64)\n",
    "    n_configurations = configurations.shape[0] # 组态数\n",
    "    n_spin_orbs = configurations.shape[1]   # 自旋轨道数\n",
    "    strings = np.zeros(n_configurations, dtype = np.int64) # 先定义一个空的new_configurations的数组，里面用十进制数存组态\n",
    "    for i in range(n_spin_orbs):\n",
    "        strings += configurations[:,i]* 2**i # 每一位数值代表了2**i\n",
    "    return strings\n",
    "\n",
    "strings = config_to_string(configurations)\n",
    "n_configurations = strings.shape[0]"
   ]
  },
  {
   "cell_type": "markdown",
   "id": "0703619d",
   "metadata": {},
   "source": [
    "获取了所有组态之后，就要计算组态之间的矩阵元了：\n",
    "$$\n",
    "H_{k,k^\\prime} = \\langle k | \\hat{H} | k^\\prime \\rangle\n",
    "$$"
   ]
  },
  {
   "cell_type": "code",
   "execution_count": 5,
   "id": "e62e5ab9",
   "metadata": {},
   "outputs": [],
   "source": [
    "def cre_des_sign(p, q, string0):\n",
    "    \"\"\"\n",
    "    这个函数的作用是，对于一个组态string0，它对于第p个轨道作用一个产生算符，第q个轨道作用一个湮灭算符，得到的新组态string1, \n",
    "    string0 和string1之间由交换反对称确定的符号是+1还是-1\n",
    "\n",
    "    Args:\n",
    "        p (int): 产生算符作用的位置\n",
    "        q (int): 湮灭算符作用的位置\n",
    "        string0 (int): 以十进制数保存的组套\n",
    "\n",
    "    Returns:\n",
    "        sign: +1 或者 -1\n",
    "    \"\"\"\n",
    "    if p == q: \n",
    "        # 如果 p==q，那就是在同一个轨道上湮灭-产生，得到的组态是string0自己，这里不涉及费米子交换，符号为1\n",
    "        return 1\n",
    "    else:\n",
    "        if (string0 & (1 << p)) or (not (string0 & (1 << q))):\n",
    "            # 如果在p上本来有电子，或者q上没有电子，那么就无法产生/湮灭，这两个组态给出的矩阵元为0：\n",
    "            return 0\n",
    "        \n",
    "        # 其他情况，则需要数一下产生算符p和湮灭算符q之间，交换了多少个电子，数一下p和q之间的1\n",
    "        elif p > q:\n",
    "            mask = (1 << p) - (1 << (q+1))\n",
    "        else:\n",
    "            mask = (1 << q) - (1 << (p+1))\n",
    "        # 交换次数为偶数返回0， 为奇数返回1：\n",
    "        return (-1) ** bin(string0 & mask).count('1')\n",
    "\n",
    "def diagnol_matrix_term(ci_string: int, U: float) -> float:\n",
    "    # Hubbard model 算双电子积分贡献的矩阵元比较方便，只需要数有多少个双占据就可以了，每有一个双占据就会贡献出一个Hubbard U的能量。\n",
    "    sum_total = 0.0\n",
    "    while ci_string > 0:\n",
    "        if (ci_string & 3) == 3:  # 检查最后两位是否都是1\n",
    "            sum_total += U\n",
    "        ci_string >>= 2  # 右移两位，处理下一组\n",
    "    return sum_total\n",
    "\n",
    "def get_matrix_elements(ci_strings, annihilations, creations, U):\n",
    "    \"\"\"\n",
    "    计算矩阵元的核心函数\n",
    "\n",
    "    Args:\n",
    "        ci_strings (np.array): 输入的组态数目\n",
    "        annihilations (np.array): annihilations和creations记录了产生-湮灭对的信息。\n",
    "        creations (np.array): \n",
    "        U (int): Hubbard U 的数值\n",
    "\n",
    "    Returns:\n",
    "        rows, cols, values: 非零矩阵元的行，列，值\n",
    "    \"\"\"\n",
    "    n = len(ci_strings)\n",
    "    str_dict = {s: idx for idx, s in enumerate(ci_strings)}  # 直接枚举索引\n",
    "    \n",
    "    # 预计算所有可能的（a, c）对\n",
    "    operations = []\n",
    "    for ann, cre in zip(annihilations, creations):\n",
    "        for spin in (0, 1):\n",
    "            a = ann * 2 + spin  # 湮灭位（spin-orbital）\n",
    "            c = cre * 2 + spin  # 产生位（spin-orbital）\n",
    "            operations.append((a, c))\n",
    "    \n",
    "    rows, cols, values = [], [], []\n",
    "    \n",
    "    for idx0, string_0 in enumerate(ci_strings):\n",
    "        # 处理对角线元素\n",
    "        rows.append(idx0)\n",
    "        cols.append(idx0)\n",
    "        values.append(diagnol_matrix_term(string_0, U))\n",
    "        \n",
    "        # 处理非对角线元素\n",
    "        for a, c in operations:\n",
    "            # 检查湮灭位是否为1且产生位是否为0\n",
    "            if (string_0 & (1 << a)) and not (string_0 & (1 << c)):\n",
    "                sign = cre_des_sign(c, a, string_0)\n",
    "                if sign != 0:\n",
    "                    string_1 = (string_0 & ~(1 << a)) | (1 << c)  # 安全位操作\n",
    "                    if (idx1 := str_dict.get(string_1)) is not None:\n",
    "                        rows.append(idx0)\n",
    "                        cols.append(idx1)\n",
    "                        values.append(sign * -1)\n",
    "    rows = np.array(rows)\n",
    "    cols = np.array(cols)\n",
    "    values = np.array(values)\n",
    "    return rows, cols, values"
   ]
  },
  {
   "cell_type": "markdown",
   "id": "b0f3ae7d",
   "metadata": {},
   "source": [
    "以上就是我们计算Hubbard model 矩阵元需要的函数。\n",
    "\n",
    "接下来计算矩阵元，并构造哈密顿量矩阵。"
   ]
  },
  {
   "cell_type": "code",
   "execution_count": 6,
   "id": "afcd5777",
   "metadata": {},
   "outputs": [],
   "source": [
    "annihilations, creations = h1.nonzero() # 首先把所有h1中记录的产生湮灭对记录一下\n",
    "rows, cols, vals = get_matrix_elements(strings,annihilations,creations,U)\n",
    "\n",
    "# 构造出矩阵\n",
    "hamiltonian_matrix = np.zeros((n_configurations, n_configurations))\n",
    "hamiltonian_matrix[rows,cols] = vals"
   ]
  },
  {
   "cell_type": "code",
   "execution_count": 7,
   "id": "822aac9f",
   "metadata": {},
   "outputs": [
    {
     "data": {
      "text/plain": [
       "array([[24., -1.,  0., ...,  0.,  0.,  0.],\n",
       "       [-1., 16., -1., ...,  0.,  0.,  0.],\n",
       "       [ 0., -1., 16., ...,  0.,  0.,  0.],\n",
       "       ...,\n",
       "       [ 0.,  0.,  0., ..., 16.,  1.,  0.],\n",
       "       [ 0.,  0.,  0., ...,  1., 16.,  1.],\n",
       "       [ 0.,  0.,  0., ...,  0.,  1., 24.]])"
      ]
     },
     "execution_count": 7,
     "metadata": {},
     "output_type": "execute_result"
    }
   ],
   "source": [
    "hamiltonian_matrix"
   ]
  },
  {
   "cell_type": "markdown",
   "id": "d7c5260b",
   "metadata": {},
   "source": [
    "如果组态特别多的时候最好构建成稀疏矩阵："
   ]
  },
  {
   "cell_type": "code",
   "execution_count": 8,
   "id": "32e67f02",
   "metadata": {},
   "outputs": [],
   "source": [
    "import scipy.sparse\n",
    "ham_coo_matrix = scipy.sparse.coo_matrix(\\\n",
    "            (vals, (rows, cols)), shape=(n_configurations,n_configurations)).astype(np.float64)"
   ]
  },
  {
   "cell_type": "markdown",
   "id": "cce58d0b",
   "metadata": {},
   "source": [
    "之后就可以对角化求特征值特征向量"
   ]
  },
  {
   "cell_type": "code",
   "execution_count": 9,
   "id": "72343df5",
   "metadata": {},
   "outputs": [
    {
     "data": {
      "text/plain": [
       "-2.048130886091439"
      ]
     },
     "execution_count": 9,
     "metadata": {},
     "output_type": "execute_result"
    }
   ],
   "source": [
    "import scipy.sparse.linalg\n",
    "e,v = scipy.sparse.linalg.eigsh(ham_coo_matrix,which = \"SA\")\n",
    "e[0]"
   ]
  },
  {
   "cell_type": "markdown",
   "id": "e0e815b2",
   "metadata": {},
   "source": [
    "可以和PySCF的FCI对比一下"
   ]
  },
  {
   "cell_type": "code",
   "execution_count": 10,
   "id": "7acc9f3c",
   "metadata": {},
   "outputs": [
    {
     "data": {
      "text/plain": [
       "2.842170943040401e-14"
      ]
     },
     "execution_count": 10,
     "metadata": {},
     "output_type": "execute_result"
    }
   ],
   "source": [
    "from pyscf.fci.direct_spin1 import FCI\n",
    "myfci = FCI()\n",
    "pyscf_fci_e , fcivec_pyscf = myfci.kernel(h1e = h1,eri = h2,norb = norb, nelec = nelec)\n",
    "pyscf_fci_e - e[0]"
   ]
  }
 ],
 "metadata": {
  "kernelspec": {
   "display_name": "hfds",
   "language": "python",
   "name": "python3"
  },
  "language_info": {
   "codemirror_mode": {
    "name": "ipython",
    "version": 3
   },
   "file_extension": ".py",
   "mimetype": "text/x-python",
   "name": "python",
   "nbconvert_exporter": "python",
   "pygments_lexer": "ipython3",
   "version": "3.11.11"
  }
 },
 "nbformat": 4,
 "nbformat_minor": 5
}
