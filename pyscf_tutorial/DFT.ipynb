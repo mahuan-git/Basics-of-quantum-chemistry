{
 "cells": [
  {
   "cell_type": "markdown",
   "id": "87872d91",
   "metadata": {},
   "source": [
    "# 极简DFT"
   ]
  },
  {
   "cell_type": "code",
   "execution_count": 1,
   "id": "6ebaf0fa",
   "metadata": {},
   "outputs": [
    {
     "name": "stdout",
     "output_type": "stream",
     "text": [
      "converged SCF energy = -75.854350340044\n"
     ]
    },
    {
     "data": {
      "text/plain": [
       "-75.85435034004401"
      ]
     },
     "execution_count": 1,
     "metadata": {},
     "output_type": "execute_result"
    }
   ],
   "source": [
    "from pyscf import gto, dft\n",
    "import numpy as np\n",
    "\n",
    "def geometry_h2o(bl = 1.0 , theta = np.pi *104/180):\n",
    "    \"\"\"get geometry for h2o\"\"\"\n",
    "    geometry = []\n",
    "    geometry.append((\"O\",(0,0,0)))\n",
    "    geometry.append((\"H\",(0,bl*np.sin(theta/2),bl*np.cos(theta/2))))\n",
    "    geometry.append((\"H\",(0,-bl*np.sin(theta/2),bl*np.cos(theta/2))))\n",
    "    return geometry\n",
    "\n",
    "def geometry_ch4():\n",
    "    \"\"\"get geometry for ch4\"\"\"\n",
    "    geometry = []\n",
    "    geometry.append((\"C\",(0,0,0.0)))\n",
    "    geometry.append((\"H\",(    0.554102923 , 0.799604215 ,    0.496502616)))\n",
    "    geometry.append((\"H\",( 0.683303601 , -0.813404287 ,   -0.253601339)))\n",
    "    geometry.append((\"H\",(  -0.778204102, -0.37350197  ,   0.669203526)))\n",
    "    geometry.append((\"H\",(  -0.459302421, 0.387402041   ,  -0.912104808)))\n",
    "    return geometry\n",
    "\n",
    "mol = gto.Mole()\n",
    "mol.atom = geometry_h2o()\n",
    "mol.basis = \"cc-pvdz\"\n",
    "mol.build()\n",
    "\n",
    "mf = dft.rks.RKS(mol)\n",
    "mf.kernel()"
   ]
  },
  {
   "cell_type": "code",
   "execution_count": null,
   "id": "584b61ab",
   "metadata": {},
   "outputs": [],
   "source": []
  }
 ],
 "metadata": {
  "kernelspec": {
   "display_name": "hfds",
   "language": "python",
   "name": "python3"
  },
  "language_info": {
   "codemirror_mode": {
    "name": "ipython",
    "version": 3
   },
   "file_extension": ".py",
   "mimetype": "text/x-python",
   "name": "python",
   "nbconvert_exporter": "python",
   "pygments_lexer": "ipython3",
   "version": "3.11.11"
  }
 },
 "nbformat": 4,
 "nbformat_minor": 5
}
